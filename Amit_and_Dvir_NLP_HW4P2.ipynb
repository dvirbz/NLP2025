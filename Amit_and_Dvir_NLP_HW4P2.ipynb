{
  "cells": [
    {
      "cell_type": "markdown",
      "metadata": {
        "colab_type": "text",
        "id": "view-in-github"
      },
      "source": [
        "<a href=\"https://colab.research.google.com/github/dvirbz/NLP2025/blob/main/Amit_and_Dvir_NLP_HW4P2.ipynb\" target=\"_parent\"><img src=\"https://colab.research.google.com/assets/colab-badge.svg\" alt=\"Open In Colab\"/></a>"
      ]
    },
    {
      "cell_type": "markdown",
      "metadata": {
        "id": "LiJc79Wo-D1q"
      },
      "source": [
        "<div dir=rtl>\n",
        "\n",
        "# עיבוד שפה טבעית (20225211) 2024-2025 - תרגיל 4 חלק 2 (4 נק')\n",
        "\n",
        "שלום לכולםן!\n",
        "\n",
        "כעת נתבונן קצת יותר לעומק בשיטות ליצירת אוצרות מילים (vocabularies) מתחת לרמת המילה (subword). נאסוף קורפוס, נאמן טוקנייזר לעברית שמתאים ל-BERT, ונבחן את תכונותיו.\n",
        "\n",
        "בסיום העבודה, הגישו **קובץ pdf** הכולל את כל הפלטים מכל התאים. דרך אפשרית אחת להשיג קובץ pdf היא על-ידי הדפסת הדף (מתוך colab, לא מהדפדפן) ולבחור \"מדפסת\" ישירה ל-pdf.\n",
        "\n",
        "---\n",
        "\n",
        "**שימו לב שכל המידע הדרוש מופיע בתדפיס ה-pdf --- לא יתקבלו ערעורים על-בסיס חיתוך. אין לחרוג ממבנה התאים ואין לענות במקומות שאינם מוגדרים לכך.**\n",
        "**אין למחוק הערות שמסמנות את מיקומי קטעי הקוד שלכםן ואין לערוך קוד שנמצא מחוץ לתחומים המוגדרים. סעיפים שחורגים מהנחיה זו לא ייבדקו.**\n",
        "\n",
        "---\n",
        "\n",
        "ניתן להגיש בצוותים של עד שלוש.ה סטודנטיםות. לא יהיו הנחות לצוותים קטנים. אפשר לחלק את פתרון התרגיל בין חברי.ות הצוות כרצונכםן. אין להסתכל על קוד של צוותים אחרים ואין להקריא קוד לצוותים אחרים.\n",
        "\n",
        "**אין להשתמש ברכיב ג'מיני Gemini או כל סייען מתקדם אחר.**\n",
        "\n",
        "מועד ההגשה הוא דקה לפני תחילת השיעור ב-13/1. לא יינתנו הארכות.\n",
        "\n",
        "בהצלחה,\n",
        "\n",
        "-- יובל\n",
        "</div>"
      ]
    },
    {
      "cell_type": "markdown",
      "metadata": {
        "id": "cA4d8nehCk13"
      },
      "source": [
        "<div dir=rtl>\n",
        "\n",
        "## התקנות\n",
        "\n",
        "דבר ראשון, נתקין את החבילות הנדרשות, כולן מבית האגינגפייס.\n",
        "</div>"
      ]
    },
    {
      "cell_type": "code",
      "execution_count": 1,
      "metadata": {
        "colab": {
          "base_uri": "https://localhost:8080/"
        },
        "id": "cg_wxv44nc18",
        "outputId": "ea96aeca-8d75-4f98-bafd-6418ce65f168"
      },
      "outputs": [],
      "source": [
        "!pip install datasets -q\n",
        "!pip install tokenizers -q\n",
        "!pip install transformers -q"
      ]
    },
    {
      "cell_type": "markdown",
      "metadata": {
        "id": "Gcienms8DSw-"
      },
      "source": [
        "<div dir=rtl>\n",
        "\n",
        "נייבא חבילות. את `os` נצטרך כדי לכתוב את הדאטאסט שלנו לטובת האימון, וכדי לכתוב את אוצר המילים של הטוקנייזר לאחר האימון כדי שיוכל להיטען לאובייקט הקורא אותו.\n",
        "\n",
        "</div>"
      ]
    },
    {
      "cell_type": "code",
      "execution_count": 2,
      "metadata": {
        "id": "3Craq4rePR4C"
      },
      "outputs": [],
      "source": [
        "import os\n",
        "import datasets\n",
        "from tqdm.notebook import tqdm"
      ]
    },
    {
      "cell_type": "markdown",
      "metadata": {
        "id": "CfIo6ptYDnaf"
      },
      "source": [
        "<div dir=rtl>\n",
        "\n",
        "החבילה `datasets` מכילה קורפוסים לא-מתויגים רבים, בדיוק מהסוג שאנחנו צריכים לטובת אימון טוקנייזר תת-מילי.\n",
        "נשתמש ב-[`OSCAR`](https://oscar-corpus.com/), פרויקט נקיון ותחזוקה של מידע ממאגר הגריפה הגדול `commoncrawl` התומך ב-166 שפות, וביניהן עברית.\n",
        "\n",
        "נבקש ממנו את מחיצת האימון (היחידה שקיימת) לעברית ונספק את הפרמטר `streaming` כדי שנוכל לדגום חלק קטן ממנה בלי להוריד הכל לזכרון של קולאב (המון זמן). 200,000 מסמכים יהיו די והותר.\n",
        "\n",
        "</div>"
      ]
    },
    {
      "cell_type": "code",
      "execution_count": 3,
      "metadata": {
        "colab": {
          "base_uri": "https://localhost:8080/",
          "height": 217,
          "referenced_widgets": [
            "32bb6f33f8954ec3a9b580abb70539a5",
            "a802d2f0386b4bcc9330888429b5069a",
            "57f75ced8f4c4b8f84f1937e60a52c82",
            "caf159d1c0984c9c8d62af99cb29525f",
            "6084d7c2b0f14b77a73cbd8ddf2b3c93",
            "a998c3521a1344328df8bca28d418b24",
            "a50181149438424d8ef1bec578c70196",
            "a34f14b4e64c47788461425b42c336b6",
            "d64ca48356e24c75b73689c141cafd6c",
            "eca9106a6ec14e4eade806788106ab4e",
            "b72a1b9855d647ac99fab27e17de7308",
            "ec887241608b4b529f8ef18682911b3b",
            "701faf5d329b47249bc723270faf8ba9",
            "dc03ce8f4bec4e8ea1a3ddd30a59681a",
            "31796c19585a431e8dfc54afbbaefb22",
            "74ec11b3d06241a788010ea7ba76891b",
            "4e69b1fbd3a2415fb4ba3f07dabb5992",
            "ab06925e568a413c8a2a5569229984b5",
            "2930b509bc9447158c9281fab6957049",
            "12e37fa233db46baa29fe6fd2b3a2db0",
            "4192dc1248b54cb387b39940517541b5",
            "53ff81dceb6a45edbe3bd4e833baadd4",
            "a845ba2439224ef09f2a62e469e4eb0a",
            "4aa403a593374427887147492f576510",
            "03cfcaa0b8114347bbd1145559b86540",
            "5d14d4e9fe924e35afe6853c2d633fe7",
            "d2fc35ce1903499d9438c051ed93f5de",
            "288e03e6468043e9bfdc57e5d6b03cc5",
            "1f1e4e8335254260b8af3399fde46416",
            "3e1511a662fc4fb6b1983044be68b25c",
            "9aa87e6a34934feb911ebfeb230e59c3",
            "768ddbe755aa4112b01f9940b7a3ccdc",
            "08cffb9ba11c4d2cb97580f45c51fc20"
          ]
        },
        "id": "rq_ipYKrPZDy",
        "outputId": "8b9b07fc-6311-4171-84bc-692e8aab34a7"
      },
      "outputs": [
        {
          "data": {
            "application/vnd.jupyter.widget-view+json": {
              "model_id": "5481028b85d840c9a1ec6547d21fbfec",
              "version_major": 2,
              "version_minor": 0
            },
            "text/plain": [
              "0it [00:00, ?it/s]"
            ]
          },
          "metadata": {},
          "output_type": "display_data"
        }
      ],
      "source": [
        "dataset = datasets.load_dataset(\n",
        "    'oscar',\n",
        "    'unshuffled_deduplicated_he',\n",
        "    split='train',\n",
        "    streaming=True,\n",
        "    trust_remote_code=True)\n",
        "\n",
        "sampled_ds = []\n",
        "for i, doc in tqdm(enumerate(dataset)):\n",
        "  if i > 200_000:\n",
        "    break\n",
        "  sampled_ds.append(doc)"
      ]
    },
    {
      "cell_type": "code",
      "execution_count": null,
      "metadata": {},
      "outputs": [],
      "source": []
    },
    {
      "cell_type": "markdown",
      "metadata": {
        "id": "RS5rhKb0EzTp"
      },
      "source": [
        "<div dir=rtl>\n",
        "\n",
        "היעלה על הדעת שנוריד מידע ולא נתבונן בו? הבה נבחן את המסמכים האחרונים שהורדנו.\n",
        "\n",
        "</div>"
      ]
    },
    {
      "cell_type": "code",
      "execution_count": 4,
      "metadata": {
        "colab": {
          "base_uri": "https://localhost:8080/"
        },
        "id": "WsvYepEBWrdw",
        "outputId": "558abb2c-2780-4062-eb76-21052bc36726"
      },
      "outputs": [
        {
          "data": {
            "text/plain": [
              "[{'id': 199991,\n",
              "  'text': 'בלילה האחרון החלו הקרנות הבכורה בארץ ובעולם של הסרט החדש \"Star Wars The Force Awakens\" ולכבוד הסרט גוגל בנו משחק קצרצר של מלחמת הכוכבים הפועל בתוך דפדפן הכרום.\\nעליכם יהיה להכנס לקישור עם הקוד המיוחד שיוצג לכם באתר במחשב מהפלאפון ולאחר ביצוע כיול קצרצר ופשוט תוכלו להדוף יריות ולבסוף גם להלחם בStorm Trooper.\\nלצערי המשקח מאוד מאוד קצר ומכיוון שמדובר במשחק דפדפן באיכות לא רעה ושליטה שניעשת ממכשיר אחר דרך הרשת יש מדי פעם קצת האטה.\\nתגיות: גוגל, דפדפן, כרום, מלחמת הכוכבים, משחק, סרט, Chrome, Lightsaber, Star Wars, Storm Trooper, The Force Awakens'},\n",
              " {'id': 199992,\n",
              "  'text': 'התרגלנו לחשוב שיש לנו סוג של בעלות על האדם האהוב עלינו. לפעמים מספיק שנראה את הבן זוג שלנו מסתכל על אישה אחרת, והקנאה מתעוררת. האמירה הבאה אולי תפתיע אתכם: קנאה אינה שייכת לאהבה! אם תאמצו זאת כמוטו, חיי האהבה שלכם ישתנו לחלוטין\\nלרפואה המזרחית גישה מעניינת ואפקטיבית מאוד, לתופעות גיל המעבר. המחלקה לרפואה סינית ויפנית במרפאות אלטרנטיבה מציעה טיפול ייחודי משולב לתופעות המטרידות של גיל המעבר: גלי חום, הזעות לילה, חרדה, מתח ואי שקט, דפיקות לב מואצות, הפרעות שינה ודיכאון. לאיזון ושקט נפשי\\nאנשי עסקים מצליחים שהכסף מצוי בכיסם מגיעים לפעמים לצומת דרכים. הכסף מסתבר לא עונה על הכל והתשובה עשויה להימצא בדווקא במקומות הרוחניים. על ידועונים רוחניות ואנשי עסקים\\nהרוחניות החדשה של היום, טוענת שאין סתירה בין רוחניות וכסף. בהחלט אפשרי ליהנות משני העולמות. כיצד עבודה רוחנית יכולה לתמוך בחיבור לשפע חומרי\\nהטבע יודע לשחרר את הישן ולפנות מקום לחדש: העלים היבשים נושרים ועלים ירוקים חדשים יצמחו במקומם, בבוא העת. רק האדם לעתים נצמד לישן, מפחד משינויים\\nמנדלה היא יצירה שצומחת מתוך מעגל פנימי, אשר גדלה ומתפתחת לעוד ועוד מעגלים סביבו, עד אין סוף. מנדלה היא מילה בסנסקריט שפירושה מעגל מקודש. היא מלווה דתות שונות ואף שבטים ותרבויות קדומות עוד מהתקופה הפרהיסטורית\\nשינויים מתרחשים כל הזמן ולכן עלינו לשנות את יחסנו אליהם, הן בתחומים מקצועיים והם בתחומים אישיים. כיצד לקבל את השינויים כחלק בלתי נפרד מהחיים'},\n",
              " {'id': 199993,\n",
              "  'text': 'כולנו מנהלים את עצמינו במספר מעגלי חיים: קריירה , משפחה, חברה , תחומי עיניין אישיים . לא פעם אנו מוצאים את עצמינו \"נקרעים\" בין ה\"עולמות\" הנ\"ל ולא פעם התוצאה היא הזנחה של חלק מתחומים, תשלום מחירים גבוהים בבריאות , בקשר עם הילדים , בקשר עם הבן זוג , ברמת הסיפוק אישי, או מקצועי ועוד.\\nהרווחה האישית( Well-being ) מושגת תוך סיפוק הצרכים האישיים, המקצועיים והמשפתיים. סיפוק צרכים אלו מתאפשר ע\"י ניהול אפקטיבי של המשימות וניתוב נכון של האנרגיות האישיות במעגלי חיים השונים.\\nבמסגרת האימון נפתח כלי התנהלות אפקטיביים לניהול המשימות ולניהול זמן , נאתר יחד את הדרך לאיזון האנרגיות .'},\n",
              " {'id': 199994,\n",
              "  'text': 'דף הבית >> הרצאות >> טורקיה >> סקר ארכיאולוגיֿ\\\\היסטורי של אתרים מרכזיים יוונים ורומיים במחוזות טורקיה\\nהנוסע המוסלמי אבן בטוטא (1377-1304) ביקר בטורקיה ב-1330 ותיאר אותה כאזור המופלא שבעולם, אכן מדינה מרתקת, ייחודית גן עדן ארכיאולוגי, נופים וחופים מהיפים בעולם. החל משנת 1998 לאחר לימודי הארכיאולוגיה ביקרתי, סיירתי וצילמתי יותר מ- 20 פעמים, היתה לי הזכות לצלם מאות אתרים ארכאולוגים ואלפי מונומנטים\\nהאזור בו שוכנת כיום טורקיה המודרנית היה ערש הולדתן של תרבויות חשובות, בהן האימפריות הביזאנטית והעות\\'מאנית. בשל המיקום האסטרטגי של טורקיה, בנקודת המפגש בין אסיה ואירופה, התרבות הטורקית היא מיזוג מיוחד במינו של המסורת המערבית והמזרחית. יש לה גם חשיבות גיאו-פוליטית אסטרטגית משמעותית.\\nהאימפריה המשמעותית הראשונה באזור הייתה האימפריה החתית שהתקיימה בין המאות ה-18 וה-13 לפנה\"ס. הפריגים ירש את החתים עד שהקימרים החריבו את ממלכתם במאה ה-7 לפנה\"ס. במקביל, בין שנת 1000 לפנה\"ס ועד למאה ה-6 לפנה\"ס התקיימה ממלכת בחלקה המזרחי של אסיה הקטנה, עד שנכנעה למדי. את מקומה של פריגיה תפסו מספר ממלכות שהחשובות שבהן היו לידיה, קאריה וליקיה, כולן בחלקה המערבי של אסיה הקטנה, והיוונים החלו מיישבים אותה לקראת סוף האלף השני לפנה\"ס. האזור כולו נכבש על ידי הממלכה האחמנית במאות ה-6 וה-5 לפנה\"ס, ולאחר מכן על ידי אלכסנדר הגדול בשנת 334 לפנה\"ס. בתקופה ההלניסטית חלקו מספר ממלכות את שטחה של אסיה הקטנה ובמאה ה-2 לפנה\"ס החלו הרומאים בכיבושה והשלימו אותו בשנת 65 לפנה\"ס לערךטורקיה היא רפובליקה דמוקרטית, חילונית, וחוקתית. מוסטפא כמאל אטאטורק בנה את המערכת הפוליטית שלה ב-1923, לאחר נפילת האימפריה העות\\'מאנית. טורקיה נמנתה עם החברות המייסדות של האומות המאוחדות, ושל ארגון המדינות האסלאמיות, והצטרפה לנאטו ב-1952. מאז 2005, מנהלת טורקיה משא ומתן להצטרפות לאיחוד האירופי.'},\n",
              " {'id': 199995,\n",
              "  'text': 'אם זה לגובה או אם זה למרחב, בכל סוג של פרויקט מתקן החשמל דורש שיטות תכנון מתקדמות אשר התפתחו עם השנים מליבה יציבה ומוכחת של ידע, ניסיון ועבודת צוות. שימוש בטכנולוגיות חדשות לצורך קביעת סטנדרטים חדשים במתקני החשמל אותם מתכנן המשרד ושילובם בחזית ההתפתחות הטכנולוגית העצומה שחלה בהקמת פרויקטים מורכבים בארץ ובעולם בשנים האחרונות.'},\n",
              " {'id': 199996,\n",
              "  'text': 'אחד השיקולים החשובים ביותר בבחירת מקרר הוא בחירת הנפח המתאים. מקרר גדול מידי יגרום לבזבוז אנרגיה ומקרר קטן מידי יהיה מוגבל ביכולת האחסון, 500-600 ליטרים בנפח מתאים למשפחה הממוצעת. ישנם שני סוגים של מדידות נפח: *מדידות ישנות - מדידות אלו כוללות את כל הנפח של המקרר משמע ללא המגירות והמדפים - נפח ברוטו. *מדידות חדשות - מדידות אלו כוללות את המדפים והמגירות ולכן זהו הנפח נטו.\\nמקררים יכולים לבוא בתצורות ובצבעים שונים, האפשרויות בחירה באתר שלנו גדול מאוד וכאן תוכלו למצוא כל מקרר שתחפשו. ניתן להזמין מקררים עם ציפוי מזכוכית (בתוספת תשלום), במגוון צבעים עצום - לבן, כסוף, בז\\', קרם שמנת, טיטניום, גימורי נירוסטה מכל מיני סוגים, לבן שחור ואפילו מקרר ויטרינה עם דלת כסופה!\\nישנם שני סוגי טכנולוגיות קירור במקררים: טכנולוגיית De-frost - טכנולוגיה זו כבר ישנה ואט אט מוחלפת ע\"י הטכנולוגיה החדישה יותר - No-frost. טכנולוגיה זו מייצרת קרח בדפנות הפנימיות של המקרר. קרח זה מצטבר עקב האוויר הקר והלח שהמקרר מייצר ועקב כך צריך להפסיק את פעולת המקרר אחת לחודש על מנת להפשיר את הקרח המדובר. טכנולוגיית No-frost - טכנולוגייה זו מתקדמת יותר וקיימת בכל המקררים החדישים ביותר, לא צריך להפסיק את פעולת המקרר לעולם משום שלא מצטבר קרח בדפנות אך לטכנולוגיה זו יש גם חסרון: טכנולוגיית הNo-frost מייצרת אוויר קר ויבש בתוך המקרר על מנת של יצטבר קרח בדפנות, אוויר קר ויבש פוגע בצורה משמעותית יותר באוכל שבמקרר מאשר אוויר קר ולח.\\nכאשר בוחרים מקרר חדש, עדיף לבחון את הדירוג האנרגטי שלו ולקנות מקרר אשר יצדיק את ההשקעה הכספית למשך שנים רבות. ככל שהמקרר יותר חסכוני בצריכת אנרגיה כך תצטרכו לשלם פחות במשך השנים. הדירוג האנרגטי של כל מוצר נקבע על ידי משרד האנרגיה לפני שהמוצר נכנס לארץ עוד במכון התקנים. צריכת אנרגיה נמדדת לפי יחידות קוט\"ש - קילו וואט לשעה, ככל שהקוט\"ש יותר נמוך כך המקרר יותר אפקטיבי בצריכת אנרגיה. כמובן שישנם הרבה גורמים אשר משפיעים על צריכת האנרגיה ומקרר יותר גדול יצורך יותר אנרגיה ממקרר קטן, דבר זה לא אומר שמקרר קטן יותר בהכרח יותר אפקטיבי בצריכת אנרגיה מאשר מקרר גדול.\\nמלאכותית. באמצעות חיישני טמפרטורה, מזהה המערכת שינויי טמפ\\' ומזרימה במהירות אויר קר במטרה לשמור על טמפ\\'\\nMulti Blast-טכניקת פיזור האוויר הרב- זרימתית Multi Blast, מזרימה את האוויר הקר לתא הקירור ולתא ההקפאה\\nברכישת מקרר 735 ליטר Samsung Triple אתם זכאים לפינוי המוצר הישן מביתכם ללא תוספת תשלום עפ\"י החוק, לחצו לפרטים המלאים.'},\n",
              " {'id': 199997,\n",
              "  'text': 'בגדי ריקוד גברים נעלי נוחות סוויד / PU אביב / סתיו נעליים ללא שרוכים לבן / שחור 6534228 2018 – $29.99\\nחומר עליון: PU סוויד - זמש הוא החומרים הפופולריים ביותר במרחב ההנעלה.לא רק בגלל אופנה אלא גם מעשי.אתה אף פעם לא יכול לפספס נעלי זמש,'},\n",
              " {'id': 199998,\n",
              "  'text': 'כדי לסייע לכם להתאים את השיש לבחירות השונות שצריך לעשות במסגרת תהליך של עיצוב מטבחים, נועד מאמר זה. השתמשו בו בתבונה והשיגו ממנו את המרב. אתם בהחלט יכולים לקחת את מה שמועיל לכם ולהתעלם ממה שלא נראה לכם רלוונטי, אך דעו כי הבחירה הנכונה היום, היא שתאפשר לכם ליהנות מהשיש מחר ובכלל.\\nדעו כי בכל הנוגע לבחירת שיש, אין בחירה נכונה ובחירה לא נכונה, משום שהבחירה הינה אינדיווידואלית - מה שנכון לאחד לא נכון לאחר ולהיפך. הבחירה תלויה בין היתר באהבה שלכם לבישול ואפיה וכפועל יוצא תדירות השימוש במשטח, בטעם האישי שלכם מבחינה עיצובית ועוד.\\nנשאלת השאלה החשובה מתי נכון לבחור את השיש והאם לתקופה בה מתבצעת הבחירה יש משמעות מסוימת, התשובה על כך פשוטה – חשוב מאוד להקפיד ולבחור את השיש בשלב תכנון המטבח ולא מעבר לכך. בשלב זה ניתן לבחור בשיש אשר מתאים הן לארונות המטבח, לחיפוי הקירות ולריצוף. גם את יתר האביזרים במטבח חשוב לבחור לפני או במעמד בחירת השיש ולא לאחריו ובין היתר בחירת הכיור הכיריים ועוד ורק אז תוכלו להיות בטוחים כי בחרתם את השיש הנכון, הן מבחינת הצבע והן מבחינת סוג השיש.\\nעד כמה המטבח שלכם עתיד להיות פעיל – אם אתם לא מאלו שיושבים ומבשלים ארוחות על בסיס קבוע, יכול מאוד להיות שגודל השיש לא חייב להיות עצום ולהיפך.\\nהיכן אתם אוהבים לאחסן את הציוד השמיש שלכם – יש מספר סוגי אנשים אלו שאוהבים להניח על השיש את המיקסר ואלו שאוהבים לאחסן את המיקסר ולהוציא אותו רק בעת בה הם משתמשים בו. בהתאם למי שאתם, בחרו את השיש שלכם.\\nמה הסגנון המועדף עליכם – אילו צבעים הייתם מעדיפים במטבח – בהירים או כהים. לעיתים הבחירה בצבע היא שתעיד גם על היקף העבודה במטבח משום שצבעים בהירים ידרשו מכם לנקות יותר את המשטחים על מנת ליהנות מניקיון אבסולוטי – כדי שהלבן יהיה באמת בעל מראה נקי, יש לצחצחו בתדירות גבוהה משום שלעיתים כל חלקיק אבק המתיישב על השיש הלבן, יכול לגרום למראה מלוכלך.\\nתקציב – שאלה חשובה לא פחות היא התקציב אותו אתם יכולים להקצות למטרה זו. לא כל תקציב הוא אפשרי מבחינתכם ועל מנת לא ללכת לאיבוד בין שלל סוגי השיש, נכון להגדיר את התקציב ולצפות אך ורק במה שנוגע ליכולות שלכם.'},\n",
              " {'id': 199999,\n",
              "  'text': 'תא\"ל במיל. יוסי קופרווסר, חוקר בכיר במרכז הירושלמי לענייני ציבור ומדינה, התארח באולפן וואלה על רקע המתיחות בדרום.\\nמטח כבד של יותר מ-180 רקטות נורו מאז אמש מרצועת עזה ליישובים בנגב המערבי. בעקבות הירי נפצעה לפנות בוקר (חמישי) באורח בינוני-קשה אזרחית זרה בשנות ה-20 לחייה מפגיעת רקטה בבית אריזה במועצה האזורית אשכול. עובדת נוספת נפצעה באורח קל.\\nמרבית הרקטות שנורו אל עבר ישראל נפלו בשטחים פתוחים אך חלקן פגעו בשטח יישובים במועצות האזוריות הסמוכות לגבול רצועת עזה. בשדרות אותרו שש נפילות רקטות, מרביתן בשטחים פתוחים בתחומי העיר. בנוסף אותרה פגיעה ישירה של רקטה בבית במועצה אזורית חוף אשקלון. עוד נפגע מפעל במועצה האזורית שער הנגב. מערכת כיפת ברזל יירטה 30 מתוך השיגורים.\\nבתגובה תקף צה\"ל יותר מ-150 יעדים ברצועה, בהם מנהרות של חמאס ומתחמי לחימה. גורם בכיר בצבא הזהיר הבוקר כי \"אנחנו קרובים למערכה\", והדגיש כי אם יידרש – יישובים יפונו. גורם פלסטיני אמר לסוכנות רויטרס כי מבחינת הארגונים החמושים בעזה ההסלמה תמה והאחריות להשבת הרגיעה נמצאת בידי ישראל.\\nבעקבות ההסלמה, ראש הממשלה בנימין נתניהו קיים הערכת מצב ביטחונית עם שר הביטחון, הרמטכ\"ל, ראש השב\"כ וראש המל\"ל, בקריה בתל אביב. לאחר מכן יתכנסו חברי הקבינט המדיני-ביטחוני לדיון במצב. בתוך כך, על פי דיווחים פלסטינים, אבו מאזן החל בשיחות אינטנסיביות, בעיקר עם מצרים, כדי לעצור את ההסלמה ברצועה.\\nמחצות זוהו יותר מ-80 שיגורים מרצועת עזה לשטח ישראל. לאורך הלילה נשמעו אזעקות צבע אדום ביישובי המועצות האזוריות חוף אשקלון, שער הנגב, שדות נגב ואשכול. בעקבות הנפילות אישה נפצעה באורח קשה מרסיס בחזה כתוצאה מרקטה שהתפוצצה באשכול. אישה נוספת במצב קל. הן פונו לבית החולים סורוקה בבאר שבע. שתי רקטות התפוצצו בשדרות, אחת מהן בשטח מפעל והשנייה בכניסה לבית. לא היו נפגעים אך נגרם נזק.\\nבתוך כך, פיקוד העורף הורה לרכבת ישראל להפסיק את תנועת הרכבות בין אשקלון לשדרות בעקבות הירי הבלתי פוסק לעבר יישובי הדרום. בהתאם להוראה, רכבות מצפון יסתיימו בתחנת אשקלון, ורכבות מדרום יסתיימו בתחנת נתיבות. במכללת ספיר ובמכללת חמדת הדרום הסמוכה לנתיבות הופסקו הלימודים ולא יתקיימו בחינות במהלך היום.'},\n",
              " {'id': 200000,\n",
              "  'text': 'אלי אסקוזידו, ראש מועצה אזורית נחל שורק נבחר לתפקידו בשנת 1999 והיום מכהן בקדנציה החמישית ברציפות, פועל רבות למען המועצה ומובילה בכל התחומים.'}]"
            ]
          },
          "execution_count": 4,
          "metadata": {},
          "output_type": "execute_result"
        }
      ],
      "source": [
        "sampled_ds[-10:]"
      ]
    },
    {
      "cell_type": "markdown",
      "metadata": {
        "id": "FhKA_Z-9E9bO"
      },
      "source": [
        "<div dir=rtl>\n",
        "\n",
        "לפי הסרט המוזכר במסמך 199,991, עושה רושם שהדאטאסט, או לפחות החלק הזה שלו, הוא מאמצע העשור הקודם.\n",
        "\n",
        "### שמירת דאטאסט מסודר למטרות אימון טוקנייזר\n",
        "\n",
        "התא הבא מכין את הדאטא עבור מנגנון האימון שנכיר בחלק הבא.\n",
        "\n",
        "</div>"
      ]
    },
    {
      "cell_type": "code",
      "execution_count": 5,
      "metadata": {
        "colab": {
          "base_uri": "https://localhost:8080/",
          "height": 49,
          "referenced_widgets": [
            "c78169ef271c41e7b40889687543de49",
            "2f644adff2db4ad2a832850ddd09ae5f",
            "860b547424084404a1e321d2b5c110eb",
            "9e0a62bb6d29405ab58a9795bdad43bf",
            "f7e1001e8aa941f798bedbd055c357b6",
            "af75491ad7fd42fda0c888530fae2c69",
            "09b2c52fb00c4ebc97343291ed79f544",
            "f9940dafddd44d13bcde6e0fc2942065",
            "5bc97191a2234f3ba374f11460b78a5a",
            "8cb94a710ee3426aa831cfa5c12e64df",
            "4b11a05f69634ff6833b72dfc7f7846e"
          ]
        },
        "id": "ZanNVRQ6b9VX",
        "outputId": "62923a92-cf47-4e2c-f37d-7eafbfdbd2b7"
      },
      "outputs": [
        {
          "name": "stderr",
          "output_type": "stream",
          "text": [
            "<>:12: SyntaxWarning: invalid escape sequence '\\s'\n",
            "<>:12: SyntaxWarning: invalid escape sequence '\\s'\n",
            "C:\\Users\\Benzu\\AppData\\Local\\Temp\\ipykernel_35672\\3037718808.py:12: SyntaxWarning: invalid escape sequence '\\s'\n",
            "  sample = sample['text'].replace('\\n', '\\s')\n"
          ]
        },
        {
          "data": {
            "application/vnd.jupyter.widget-view+json": {
              "model_id": "4c5a51cfe678444a8ee562c03cd9ebe9",
              "version_major": 2,
              "version_minor": 0
            },
            "text/plain": [
              "  0%|          | 0/200001 [00:00<?, ?it/s]"
            ]
          },
          "metadata": {},
          "output_type": "display_data"
        }
      ],
      "source": [
        "CORPUS_DIR = './oscar_heb'\n",
        "\n",
        "if not os.path.exists(CORPUS_DIR):\n",
        "  os.mkdir(CORPUS_DIR)\n",
        "\n",
        "text_data = []\n",
        "file_count = 0\n",
        "\n",
        "for sample in tqdm(sampled_ds):\n",
        "\n",
        "    # remove newline characters from each sample as we need to use exclusively as seperators\n",
        "    sample = sample['text'].replace('\\n', '\\s')\n",
        "\n",
        "    text_data.append(sample)\n",
        "    if len(text_data) == 5_000:\n",
        "\n",
        "        # once we hit the 5K mark, save to file\n",
        "        with open(f'{CORPUS_DIR}/text_{file_count}.txt', 'w', encoding='utf-8') as fp:\n",
        "            fp.write('\\n'.join(text_data))\n",
        "\n",
        "        text_data = []\n",
        "        file_count += 1\n",
        "\n",
        "# after saving in 5K chunks, we may have leftover samples, we save those now too\n",
        "with open(f'{CORPUS_DIR}/text_{file_count}.txt', 'w', encoding='utf-8') as fp:\n",
        "    fp.write('\\n'.join(text_data))\n"
      ]
    },
    {
      "cell_type": "markdown",
      "metadata": {
        "id": "TyRu0w-tHFhy"
      },
      "source": [
        "<div dir=rtl>\n",
        "\n",
        "נבדוק את תקינות פורמט השמירה.\n",
        "\n",
        "</div>"
      ]
    },
    {
      "cell_type": "code",
      "execution_count": 6,
      "metadata": {
        "colab": {
          "base_uri": "https://localhost:8080/"
        },
        "id": "pAdeAiXNckCi",
        "outputId": "cd1624cf-aed2-4c4b-e9ae-ec8201f48fef"
      },
      "outputs": [
        {
          "data": {
            "text/plain": [
              "['oscar_heb\\\\text_0.txt',\n",
              " 'oscar_heb\\\\text_1.txt',\n",
              " 'oscar_heb\\\\text_10.txt',\n",
              " 'oscar_heb\\\\text_11.txt',\n",
              " 'oscar_heb\\\\text_12.txt']"
            ]
          },
          "execution_count": 6,
          "metadata": {},
          "output_type": "execute_result"
        }
      ],
      "source": [
        "from pathlib import Path\n",
        "\n",
        "CORPUS_DIR = './oscar_heb'\n",
        "paths = [str(x) for x in Path(CORPUS_DIR).glob('**/*.txt')]\n",
        "paths[:5]"
      ]
    },
    {
      "cell_type": "markdown",
      "metadata": {
        "id": "H2QXzRSDHNse"
      },
      "source": [
        "<div dir=rtl>\n",
        "\n",
        "## אימון טוקנייזר של BERT מהדאטה שאספנו\n",
        "\n",
        "הטוקנייזר של BERT נקרא וורדפיס (WordPiece). האלגוריתם לאימון שלו דומה מאוד ל-BPE, ואופן חלוקת המילים לתמניות (token) (\"פיסות\" (\"pieces\")) שלו חמדני. בוורדפיס מסמנים פיסה שאינה בתחילת מילה על-ידי התחילית `##`.\n",
        "\n",
        "נאתחל טוקנייזר ריק ונאמן אותו על הדאטא שלנו. באתחול, צריך לפרט אילו פעולות טרום-טיקנוז (pre-tokenization) אנחנו רוצים לעשות, ובאימון צריך לפרט את ההיפר-פרמטרים של אוצר המילים המבוקש (נבחר ב-3,000), השכיחות המינימלית של טוקנים שיצורפו לאוצר המילים, ומגבלה על גודל האלפבית ההתחלתי.\n",
        "שני הפרמטרים האחרונים של `train()` נועדו להתאים את אוצר המילים שניצור לפורמט המקובל של הרובוטריק BERT.\n",
        "\n",
        "האימון צפוי לקחת כ-10 דקות.\n",
        "\n",
        "</div>"
      ]
    },
    {
      "cell_type": "code",
      "execution_count": 7,
      "metadata": {
        "id": "7O224lfGXjlA"
      },
      "outputs": [],
      "source": [
        "from tokenizers import BertWordPieceTokenizer\n",
        "\n",
        "# initialize\n",
        "tokzr_trainer = BertWordPieceTokenizer(clean_text=True)\n",
        "\n",
        "# and train\n",
        "tokzr_trainer.train(files=paths, vocab_size=3_000, min_frequency=2,\n",
        "                limit_alphabet=1_000, wordpieces_prefix='##',\n",
        "                special_tokens=[\n",
        "                    '[PAD]', '[UNK]', '[CLS]', '[SEP]', '[MASK]'])"
      ]
    },
    {
      "cell_type": "markdown",
      "metadata": {
        "id": "ohZgdVceJkwB"
      },
      "source": [
        "<div dir=rtl>\n",
        "\n",
        "נשמור את המודל...\n",
        "\n",
        "</div>"
      ]
    },
    {
      "cell_type": "code",
      "execution_count": 8,
      "metadata": {
        "colab": {
          "base_uri": "https://localhost:8080/"
        },
        "id": "Y_o6PhGahH0b",
        "outputId": "6ddfc975-77e0-4642-b068-8d68f2db4645"
      },
      "outputs": [
        {
          "data": {
            "text/plain": [
              "['./wp-heb\\\\wp-heb-vocab.txt']"
            ]
          },
          "execution_count": 8,
          "metadata": {},
          "output_type": "execute_result"
        }
      ],
      "source": [
        "MODEL_DIR = './wp-heb'\n",
        "\n",
        "if not os.path.exists(MODEL_DIR):\n",
        "  os.mkdir(MODEL_DIR)\n",
        "\n",
        "tokzr_trainer.save_model(MODEL_DIR, 'wp-heb')"
      ]
    },
    {
      "cell_type": "markdown",
      "metadata": {
        "id": "Sn6NCXUIJntd"
      },
      "source": [
        "<div dir=rtl>\n",
        "\n",
        "... ונטען אותו באמצעות האובייקט המתאים.\n",
        "\n",
        "\n",
        "\n",
        "> *מי שמעונייןת מוזמןת לשמור את הקבצים בנפרד מהמחברת ולטעון לפי הצורך בשלבי פתרון התרגיל כדי לחסוך את זמן האימון עם כל סשן. עם זאת, ההגשה הסופית חייבת להיות תוצר של הרצה אחת נקייה מההתחלה ועד הסוף.*\n",
        "\n",
        "\n",
        "\n",
        "הבה נסתכל על כמה דוגמאות:\n",
        "\n",
        "</div>"
      ]
    },
    {
      "cell_type": "code",
      "execution_count": 9,
      "metadata": {
        "colab": {
          "base_uri": "https://localhost:8080/",
          "height": 208,
          "referenced_widgets": [
            "47d68e246fdf41c08cb037b0fd36515f",
            "6d034b2ae32f4c4892a283f763fe6ae5",
            "ec09f526909a41e7a641fe3c8a8f94b9",
            "f35f804779c24a2dadff454163587fee",
            "28a10e10467a40279293ea40937a94ae",
            "c9299754a37348aaa6d9541c562e448c",
            "4fcf2be01b8443adb2c18b51ca25d9bf",
            "0c42690608f646bd9c7202e893793864",
            "7d2fd1ede5804ea2b276f0072e905463",
            "f29bb825e6d44ae4bb62a80d1361f4b1",
            "d5ac2a2127e7440d99b325f805b287f5"
          ]
        },
        "id": "veX68ML5Ycyv",
        "outputId": "32c20e0d-c754-4bfc-c3c5-5cc55d8c6ef3"
      },
      "outputs": [
        {
          "name": "stderr",
          "output_type": "stream",
          "text": [
            "c:\\Users\\Benzu\\anaconda3\\Lib\\site-packages\\transformers\\tokenization_utils_base.py:1925: FutureWarning: Calling BertTokenizer.from_pretrained() with the path to a single file or url is deprecated and won't be possible anymore in v5. Use a model identifier or the path to a directory instead.\n",
            "  warnings.warn(\n"
          ]
        },
        {
          "name": "stdout",
          "output_type": "stream",
          "text": [
            "There are 3000 tokens in our tokenizer's vocabulary.\n",
            "===\n",
            "['h', '##el', '##l', '##o', 'w', '##or', '##l', '##d']\n",
            "['שלו', '##ם', 'עו', '##לם']\n",
            "['אם', 'אין', 'אני', 'לי', 'מי', 'לי']\n"
          ]
        }
      ],
      "source": [
        "from transformers import BertTokenizer\n",
        "\n",
        "MODEL_DIR = './wp-heb'\n",
        "tokzr = BertTokenizer.from_pretrained(f'{MODEL_DIR}/wp-heb-vocab.txt')\n",
        "\n",
        "print(f'There are {tokzr.vocab_size} tokens in our tokenizer\\'s vocabulary.\\n===')\n",
        "print(tokzr.tokenize('hello world'))\n",
        "print(tokzr.tokenize('שלום עולם'))\n",
        "print(tokzr.tokenize('אם אין אני לי מי לי'))"
      ]
    },
    {
      "cell_type": "markdown",
      "metadata": {
        "id": "5x3GvdlBLZ85"
      },
      "source": [
        "<div dir=rtl>\n",
        "\n",
        "כמו שאנחנו רואים, הטוקנייזר שלנו בהחלט יודע לעבד עברית יותר טוב מאשר אנגלית, בהתאם לדאטא שקיבל לאימון.\n",
        "\n",
        "**סעיף 1 (0.5 נק'): הציעו הסבר מדוע בכל-זאת \"שלום\" מפריד את האות הסופית אך \"עולם\" מפריד שתי אותיות אחרונות.** ניתן להוסיף תא קוד להנמקה.\n",
        "\n",
        "---\n",
        "\n",
        "הסבר אפשרי הינו ש'שלו' הינו נפוץ יחסית ולכן קיבל טוקן משל עצמו ,מאחר וזהו אלגוריתם גרידי הוא תחילית ארוכה יותר מ'של'\n",
        "ואילו 'עול' ככל הנראה לא נפוץ מספיק בשביל לקבל טוקן משל עצמו ולכן 'עו' קיבל את התחילית הארוכה ביותר (למטה ניתן לראות שעולים ועושים שניהם מתפרקים לטוקן 'עו')\n",
        "\n",
        "\n",
        "---\n",
        "\n",
        "</div>"
      ]
    },
    {
      "cell_type": "code",
      "execution_count": 10,
      "metadata": {
        "colab": {
          "base_uri": "https://localhost:8080/"
        },
        "id": "hKyBU8L3dmYR",
        "outputId": "daace408-32d9-4254-a0db-3f228c3f9d38"
      },
      "outputs": [
        {
          "name": "stdout",
          "output_type": "stream",
          "text": [
            "['שלו', '##ם', 'עו', '##לם']\n",
            "['את', 'לא', 'כמו', 'כול', '##ם']\n",
            "['אין', 'מקום', 'בעולם', 'בש', '##ביל', '##ם']\n",
            "['ס', '##תם', 'חל', '##ום']\n",
            "['עו', '##לים', 'לג', '##ובה', 'עו', '##שים', 'הרבה']\n",
            "['של', '##חת', '##י', 'שלי', '##חים', 'לש', '##לו', '##ם', 'שלו', '##מית']\n"
          ]
        }
      ],
      "source": [
        "print(tokzr.tokenize('שלום עולם'))\n",
        "\n",
        "print(tokzr.tokenize('את לא כמו כולם'))\n",
        "print(tokzr.tokenize('אין מקום בעולם בשבילם'))\n",
        "print(tokzr.tokenize('סתם חלום'))\n",
        "\n",
        "print(tokzr.tokenize('עולים לגובה עושים הרבה'))\n",
        "print(tokzr.tokenize('שלחתי שליחים לשלום שלומית'))\n"
      ]
    },
    {
      "cell_type": "markdown",
      "metadata": {
        "id": "FE1LWD-IwFA3"
      },
      "source": [
        "\n",
        "<div dir=rtl>\n",
        "\n",
        "כפי שאנו זוכרים מהשיעור, לרוב מאמנים טוקנייזר על אוצר מילים בסדר גודל של 30-50 אלף, ושלנו קטן פי עשרה. התוצאה היא הרבה פחות מילים וחלקי מילים שימושיים שזכו לקבל תמנית משלהן.\n",
        "\n",
        "**סעיף 2 (0.5 נק'): מצאו מילה (רצף אותיות עבריות ללא רווחים) תקינה בעברית שמתפצלת ליותר מ-6 תמניות.**\n",
        "\n",
        "</div>"
      ]
    },
    {
      "cell_type": "code",
      "execution_count": 11,
      "metadata": {
        "id": "bDeyy0M1wFKM"
      },
      "outputs": [
        {
          "name": "stdout",
          "output_type": "stream",
          "text": [
            "7 ['האי', '##נ', '##צ', '##קל', '##ופ', '##די', '##ה']\n"
          ]
        }
      ],
      "source": [
        "### 3 ###\n",
        "MY_WORD = 'האינצקלופדיה'\n",
        "### # ###\n",
        "\n",
        "toks = tokzr.tokenize(MY_WORD)\n",
        "print(len(toks), toks)"
      ]
    },
    {
      "cell_type": "markdown",
      "metadata": {
        "id": "JvLx4HY4fC4k"
      },
      "source": [
        "<div dir=rtl>\n",
        "\n",
        "כפי שהזכרנו בכיתה, אופן ה*פענוח* (decoding, inference) של אלגוריתם וורדפיס הינו חמדני (greedy): בהינתן רצף תווים, וורדפיס יחפש את התמנית הארוכה ביותר שמתאימה לתחילתו, וימשיך מהנקודה בה נקטע.\n",
        "\n",
        "**סעיף 3 (1 נק'): ממשו את אלגוריתם הפענוח באופן נכון אך לא בהכרח יעיל, באמצעות אובייקט הקורא את אוצר המילים ופועל חמדנית. הקוד בתא השני יבדוק את נכונותו.**\n",
        "\n",
        "</div>"
      ]
    },
    {
      "cell_type": "code",
      "execution_count": 12,
      "metadata": {
        "id": "J2F2kVr0ibuJ"
      },
      "outputs": [],
      "source": [
        "from typing import Callable, List\n",
        "\n",
        "class GreedyTokenizerFromFile(Callable):\n",
        "\n",
        "  def __init__(self, vocab_file: str) -> None:\n",
        "    self.vocab = set()\n",
        "\n",
        "    ### 5.1 (0.25 points) ###\n",
        "    self.vocab |= set(open(vocab_file, 'r', encoding='utf-8').read().splitlines())\n",
        "\n",
        "    print(f'initialized with {len(self.vocab)} pieces')\n",
        "\n",
        "  def __call__(self, s: str) -> List:\n",
        "\n",
        "    ### 5.2 (0.75 points, conditioned on test passing) ###\n",
        "    tokens = []\n",
        "    word = s\n",
        "    while word != '##':\n",
        "      for i in range(len(word), 0, -1):\n",
        "        if word[:i] in self.vocab:\n",
        "          tokens.append(word[:i])\n",
        "          word = '##' + word[i:]\n",
        "          break\n",
        "        elif i == 1:\n",
        "          tokens.append('[UNK]')\n",
        "          return tokens\n",
        "\n",
        "    return tokens\n",
        "\n",
        "\n",
        "  ### you may define any additional functions below ###\n"
      ]
    },
    {
      "cell_type": "code",
      "execution_count": 13,
      "metadata": {
        "id": "aGAzKHm3gxV8"
      },
      "outputs": [
        {
          "name": "stdout",
          "output_type": "stream",
          "text": [
            "initialized with 3000 pieces\n"
          ]
        },
        {
          "data": {
            "application/vnd.jupyter.widget-view+json": {
              "model_id": "5a2a67e919b743be9ae98a5a6d6beab7",
              "version_major": 2,
              "version_minor": 0
            },
            "text/plain": [
              "  0%|          | 0/25 [00:00<?, ?it/s]"
            ]
          },
          "metadata": {},
          "output_type": "display_data"
        }
      ],
      "source": [
        "###############################################\n",
        "### Do not modify this cell when submitting ###\n",
        "###############################################\n",
        "\n",
        "from tokenizers.pre_tokenizers import BertPreTokenizer\n",
        "\n",
        "greedy_tok = GreedyTokenizerFromFile(f'{MODEL_DIR}/wp-heb-vocab.txt')\n",
        "\n",
        "# Bert's PreTokenizer handles punctuation. It's called implicitly by tokzr\n",
        "pretok = BertPreTokenizer()\n",
        "\n",
        "# our \"test set\" is a random document from the dataset\n",
        "for w, char_span in tqdm(pretok.pre_tokenize_str(sampled_ds[2023]['text'])):\n",
        "\n",
        "  # ground truth - the automatically-learned tokenization\n",
        "  trained_tok = tokzr.tokenize(w)\n",
        "\n",
        "  # preparation - BertTokenizer actually has a preprocessing submodule called\n",
        "  #               \"basic_tokenizer\" that lowercases English and such\n",
        "  grd_tok = greedy_tok(tokzr.basic_tokenizer.tokenize(w)[0])\n",
        "\n",
        "  # Test - these asserts should not fail #\n",
        "  assert trained_tok == grd_tok, f'{w}, {trained_tok}, {grd_tok}'"
      ]
    },
    {
      "cell_type": "markdown",
      "metadata": {
        "id": "70JCJBojMgIe"
      },
      "source": [
        "<div dir=rtl>\n",
        "\n",
        "## משחק השבת\n",
        "\n",
        "נניח שאנחנו מתכננים משימה שנוגעת לעיבוד טקסט ממסמכים הנוגעים לספורט. בואו נראה עד כמה המודל שלנו מותאם למילים מתוך התחום (domain) הספורטיבי:\n",
        "\n",
        "</div>"
      ]
    },
    {
      "cell_type": "code",
      "execution_count": 14,
      "metadata": {
        "id": "37P-Yo2tihuC"
      },
      "outputs": [
        {
          "data": {
            "text/plain": [
              "'מכ ##בי הפ ##ועל כד ##ור ##גל כד ##ור ##ס ##ל כד ##ור ##ע ##ף ט ##ני ##ס'"
            ]
          },
          "execution_count": 14,
          "metadata": {},
          "output_type": "execute_result"
        }
      ],
      "source": [
        "' '.join(tokzr.tokenize('מכבי הפועל כדורגל כדורסל כדורעף טניס'))"
      ]
    },
    {
      "cell_type": "markdown",
      "metadata": {
        "id": "-13L5HCpM80e"
      },
      "source": [
        "<div dir=rtl>\n",
        "\n",
        "נראה שהמצב די רע.\n",
        "ננסה לאמן מודל טוקניזציה שיטפל במילים האלה יותר טוב **רק באמצעות שינוי קורפוס האימון**.\n",
        "\n",
        "**סעיף 4 (2 נק', אין ניקוד חלקי): צרו דאטאסט חדש מתוך הקורפוס שכבר בידינו (אל תייבאו קורפוס חדש, אל תפצלו מסמכים, ואל תכתבו יותר מ-200,000 מסמכים לדיסק) ואמנו עליו מודל\n",
        "WordPiece\n",
        "עם אותם היפר-פרמטרים כמקודם, שמפצל לכל היותר מילה אחת מהמילים לעיל ליותר משתי תמניות, ולא מפצל בכלל לפחות שתיים מהמילים. הראו את הפלט. תעדו היטב באמצעות הערות את כל השינויים שערכתםן ביחס לקוד המקורי.**\n",
        "\n",
        "צוותים שיפנו בשעות הקבלה שלפני תחילת השיעור ב-7/1 עם פתרון חלקי יוכלו לקבל רמז. לאחר מועד זה לא תינתן עזרה על הסעיף.\n",
        "\n",
        "</div>"
      ]
    },
    {
      "cell_type": "code",
      "execution_count": 21,
      "metadata": {},
      "outputs": [
        {
          "name": "stdout",
          "output_type": "stream",
          "text": [
            "שלום! זהו מבחן 123, האם זה עובד? :) @#$%^&*() 45 <>\n"
          ]
        }
      ],
      "source": [
        "import re\n",
        "\n",
        "def clean_text(text: str) -> str:\n",
        "    \"\"\"\n",
        "    Cleans the input text by removing characters that are not Hebrew letters, digits, spaces, or specified punctuation/symbols.\n",
        "    Args:\n",
        "        text (str): The input text to be cleaned.\n",
        "    Returns:\n",
        "        str: The cleaned text with only allowed characters and no extra spaces.\n",
        "    \"\"\"\n",
        "\n",
        "    hebrew_digits_punct_regex = re.compile(r\"[^א-ת0-9\\s.,!?;:'\\\"־׳״(){}[\\]\\-+*/@#$%^&*<>~|]\")\n",
        "    cleaned_text = hebrew_digits_punct_regex.sub(\"\", text)\n",
        "    cleaned_text = re.sub(r'\\s+', ' ', cleaned_text).strip()\n",
        "    return cleaned_text\n",
        "\n",
        "text = \"שלום! זהו מבחן 123, האם זה עובד? :) @#$%^&*() 45abc <>\"\n",
        "cleaned_text = clean_text(text)\n",
        "print(cleaned_text)\n"
      ]
    },
    {
      "cell_type": "code",
      "execution_count": 22,
      "metadata": {},
      "outputs": [],
      "source": [
        "def download_corpus(keywords: List[str], n_docs: int) -> List[dict]:\n",
        "    \"\"\"\n",
        "    Downloads a corpus of documents containing specified words.\n",
        "    This is the ssame as before, just filtering the documents by specified keywords.\n",
        "    Args:\n",
        "        words (List[str]): A list of words to search for in the documents.\n",
        "        n_docs (int): The number of documents to download.\n",
        "    Returns:\n",
        "        List[dict]: A list of dictionaries, each representing a document that contains any of the specified words.\n",
        "    \"\"\"\n",
        "    i = 0\n",
        "    sampled_sports_ds = []\n",
        "\n",
        "    with tqdm(total=n_docs, desc=\"Finding sports documents\") as pbar:\n",
        "        for doc in dataset:\n",
        "            if any([word in doc['text'] for word in keywords]):\n",
        "                sampled_sports_ds.append(doc)\n",
        "                i += 1\n",
        "                pbar.update(1)\n",
        "                if i >= n_docs:\n",
        "                    break\n",
        "    return sampled_sports_ds"
      ]
    },
    {
      "cell_type": "code",
      "execution_count": 23,
      "metadata": {},
      "outputs": [
        {
          "name": "stderr",
          "output_type": "stream",
          "text": [
            "<>:24: SyntaxWarning: invalid escape sequence '\\s'\n",
            "<>:24: SyntaxWarning: invalid escape sequence '\\s'\n",
            "C:\\Users\\Benzu\\AppData\\Local\\Temp\\ipykernel_35672\\3057535395.py:24: SyntaxWarning: invalid escape sequence '\\s'\n",
            "  sample = sample['text'].replace('\\n', '\\s')\n"
          ]
        }
      ],
      "source": [
        "import shutil\n",
        "\n",
        "def save_corpus(corpus: List[dict], directory: str, clean=False) -> None:\n",
        "    \"\"\"\n",
        "    Save a cleaned corpus to a specified directory in chunks of 5000 samples.\n",
        "    \n",
        "    Args:\n",
        "        corpus (List[dict]): A list of dictionaries, each containing a 'text' key with the text sample.\n",
        "        directory (str): The directory where the cleaned text files will be saved.\n",
        "    Returns:\n",
        "        None\n",
        "    \"\"\"\n",
        "\n",
        "    if os.path.exists(directory):\n",
        "        shutil.rmtree(directory)\n",
        "    os.mkdir(directory)\n",
        "\n",
        "    text_data = []\n",
        "    file_count = 0\n",
        "\n",
        "    for sample in tqdm(corpus, desc=\"Saving corpus\"):\n",
        "\n",
        "        # remove newline characters from each sample as we need to use exclusively as seperators\n",
        "        sample = sample['text'].replace('\\n', '\\s')\n",
        "\n",
        "        text_data.append(sample)\n",
        "        if len(text_data) == 5_000:\n",
        "\n",
        "            # once we hit the 5K mark, save to file\n",
        "            with open(f'{directory}/text_{file_count}.txt', 'w', encoding='utf-8') as fp:\n",
        "                text = clean_text('\\n'.join(text_data)) if clean else '\\n'.join(text_data)\n",
        "                fp.write(text)\n",
        "\n",
        "            text_data = []\n",
        "            file_count += 1\n",
        "\n",
        "    # after saving in 5K chunks, we may have leftover samples, we save those now too\n",
        "    with open(f'{directory}/text_{file_count}.txt', 'w', encoding='utf-8') as fp:\n",
        "        text = clean_text('\\n'.join(text_data)) if clean else '\\n'.join(text_data)\n",
        "        fp.write(text)\n"
      ]
    },
    {
      "cell_type": "code",
      "execution_count": 33,
      "metadata": {
        "id": "pKD0vFLSNz1L"
      },
      "outputs": [
        {
          "data": {
            "application/vnd.jupyter.widget-view+json": {
              "model_id": "b05133f13fa04ce487eeebda12b86dc4",
              "version_major": 2,
              "version_minor": 0
            },
            "text/plain": [
              "Finding sports documents:   0%|          | 0/50000 [00:00<?, ?it/s]"
            ]
          },
          "metadata": {},
          "output_type": "display_data"
        },
        {
          "data": {
            "application/vnd.jupyter.widget-view+json": {
              "model_id": "86f2c7ad67ea4ebf896b3d66b047be74",
              "version_major": 2,
              "version_minor": 0
            },
            "text/plain": [
              "Saving corpus:   0%|          | 0/50000 [00:00<?, ?it/s]"
            ]
          },
          "metadata": {},
          "output_type": "display_data"
        },
        {
          "data": {
            "text/plain": [
              "['./wp-heb\\\\sports_adjacent-clean-vocab.txt']"
            ]
          },
          "execution_count": 33,
          "metadata": {},
          "output_type": "execute_result"
        }
      ],
      "source": [
        "SPORTS_WORDS = 'מכבי הפועל כדורגל כדורסל כדורעף טניס'.split()\n",
        "SPORTS_CORPUS_DIR = './sports_adjacent-clean'\n",
        "SPORTS_MODEL_DIR = './sp-heb'\n",
        "MODEL_NAME = 'sports_adjacent-clean'\n",
        "N_DOCS = 50_000\n",
        "\n",
        "\n",
        "### 4 ###\n",
        "# download the corpus with the sports keywords\n",
        "sampled_sports_ds = download_corpus(SPORTS_WORDS, N_DOCS)\n",
        "\n",
        "# clean and save the corpus\n",
        "save_corpus(sampled_sports_ds, SPORTS_CORPUS_DIR, clean=True)\n",
        "\n",
        "# All of this is the same as before, but with the new corpus\n",
        "sports_tokzr = tokzr_sports_trainer = BertWordPieceTokenizer(clean_text=True)\n",
        "sports_paths = sorted([str(x) for x in Path(SPORTS_CORPUS_DIR).glob('**/*.txt')])\n",
        "tokzr_sports_trainer.train(files=sports_paths, vocab_size=3_000, min_frequency=2,\n",
        "                limit_alphabet=1_000, wordpieces_prefix='##',\n",
        "                special_tokens=[\n",
        "                    '[PAD]', '[UNK]', '[CLS]', '[SEP]', '[MASK]'])\n",
        "if not os.path.exists(MODEL_DIR):\n",
        "  os.mkdir(MODEL_DIR)\n",
        "\n",
        "tokzr_sports_trainer.save_model(MODEL_DIR, f'{MODEL_NAME}')"
      ]
    },
    {
      "cell_type": "code",
      "execution_count": 34,
      "metadata": {},
      "outputs": [
        {
          "name": "stderr",
          "output_type": "stream",
          "text": [
            "c:\\Users\\Benzu\\anaconda3\\Lib\\site-packages\\transformers\\tokenization_utils_base.py:1925: FutureWarning: Calling BertTokenizer.from_pretrained() with the path to a single file or url is deprecated and won't be possible anymore in v5. Use a model identifier or the path to a directory instead.\n",
            "  warnings.warn(\n"
          ]
        },
        {
          "data": {
            "text/plain": [
              "'מכבי הפועל כדורגל כדור ##סל כדור ##ע ##ף ט ##ניס'"
            ]
          },
          "execution_count": 34,
          "metadata": {},
          "output_type": "execute_result"
        }
      ],
      "source": [
        "sports_tokzr = BertTokenizer.from_pretrained(f'{MODEL_DIR}/{MODEL_NAME}-vocab.txt')\n",
        "\n",
        "\n",
        "### # ###\n",
        "\n",
        "' '.join(sports_tokzr.tokenize('מכבי הפועל כדורגל כדורסל כדורעף טניס'))"
      ]
    }
  ],
  "metadata": {
    "colab": {
      "include_colab_link": true,
      "provenance": []
    },
    "kernelspec": {
      "display_name": "base",
      "language": "python",
      "name": "python3"
    },
    "language_info": {
      "codemirror_mode": {
        "name": "ipython",
        "version": 3
      },
      "file_extension": ".py",
      "mimetype": "text/x-python",
      "name": "python",
      "nbconvert_exporter": "python",
      "pygments_lexer": "ipython3",
      "version": "3.12.3"
    },
    "widgets": {
      "application/vnd.jupyter.widget-state+json": {
        "03cfcaa0b8114347bbd1145559b86540": {
          "model_module": "@jupyter-widgets/controls",
          "model_module_version": "1.5.0",
          "model_name": "FloatProgressModel",
          "state": {
            "_dom_classes": [],
            "_model_module": "@jupyter-widgets/controls",
            "_model_module_version": "1.5.0",
            "_model_name": "FloatProgressModel",
            "_view_count": null,
            "_view_module": "@jupyter-widgets/controls",
            "_view_module_version": "1.5.0",
            "_view_name": "ProgressView",
            "bar_style": "danger",
            "description": "",
            "description_tooltip": null,
            "layout": "IPY_MODEL_3e1511a662fc4fb6b1983044be68b25c",
            "max": 1,
            "min": 0,
            "orientation": "horizontal",
            "style": "IPY_MODEL_9aa87e6a34934feb911ebfeb230e59c3",
            "value": 1
          }
        },
        "08cffb9ba11c4d2cb97580f45c51fc20": {
          "model_module": "@jupyter-widgets/controls",
          "model_module_version": "1.5.0",
          "model_name": "DescriptionStyleModel",
          "state": {
            "_model_module": "@jupyter-widgets/controls",
            "_model_module_version": "1.5.0",
            "_model_name": "DescriptionStyleModel",
            "_view_count": null,
            "_view_module": "@jupyter-widgets/base",
            "_view_module_version": "1.2.0",
            "_view_name": "StyleView",
            "description_width": ""
          }
        },
        "09b2c52fb00c4ebc97343291ed79f544": {
          "model_module": "@jupyter-widgets/controls",
          "model_module_version": "1.5.0",
          "model_name": "DescriptionStyleModel",
          "state": {
            "_model_module": "@jupyter-widgets/controls",
            "_model_module_version": "1.5.0",
            "_model_name": "DescriptionStyleModel",
            "_view_count": null,
            "_view_module": "@jupyter-widgets/base",
            "_view_module_version": "1.2.0",
            "_view_name": "StyleView",
            "description_width": ""
          }
        },
        "0c42690608f646bd9c7202e893793864": {
          "model_module": "@jupyter-widgets/base",
          "model_module_version": "1.2.0",
          "model_name": "LayoutModel",
          "state": {
            "_model_module": "@jupyter-widgets/base",
            "_model_module_version": "1.2.0",
            "_model_name": "LayoutModel",
            "_view_count": null,
            "_view_module": "@jupyter-widgets/base",
            "_view_module_version": "1.2.0",
            "_view_name": "LayoutView",
            "align_content": null,
            "align_items": null,
            "align_self": null,
            "border": null,
            "bottom": null,
            "display": null,
            "flex": null,
            "flex_flow": null,
            "grid_area": null,
            "grid_auto_columns": null,
            "grid_auto_flow": null,
            "grid_auto_rows": null,
            "grid_column": null,
            "grid_gap": null,
            "grid_row": null,
            "grid_template_areas": null,
            "grid_template_columns": null,
            "grid_template_rows": null,
            "height": null,
            "justify_content": null,
            "justify_items": null,
            "left": null,
            "margin": null,
            "max_height": null,
            "max_width": null,
            "min_height": null,
            "min_width": null,
            "object_fit": null,
            "object_position": null,
            "order": null,
            "overflow": null,
            "overflow_x": null,
            "overflow_y": null,
            "padding": null,
            "right": null,
            "top": null,
            "visibility": null,
            "width": "20px"
          }
        },
        "12e37fa233db46baa29fe6fd2b3a2db0": {
          "model_module": "@jupyter-widgets/controls",
          "model_module_version": "1.5.0",
          "model_name": "ProgressStyleModel",
          "state": {
            "_model_module": "@jupyter-widgets/controls",
            "_model_module_version": "1.5.0",
            "_model_name": "ProgressStyleModel",
            "_view_count": null,
            "_view_module": "@jupyter-widgets/base",
            "_view_module_version": "1.2.0",
            "_view_name": "StyleView",
            "bar_color": null,
            "description_width": ""
          }
        },
        "1f1e4e8335254260b8af3399fde46416": {
          "model_module": "@jupyter-widgets/controls",
          "model_module_version": "1.5.0",
          "model_name": "DescriptionStyleModel",
          "state": {
            "_model_module": "@jupyter-widgets/controls",
            "_model_module_version": "1.5.0",
            "_model_name": "DescriptionStyleModel",
            "_view_count": null,
            "_view_module": "@jupyter-widgets/base",
            "_view_module_version": "1.2.0",
            "_view_name": "StyleView",
            "description_width": ""
          }
        },
        "288e03e6468043e9bfdc57e5d6b03cc5": {
          "model_module": "@jupyter-widgets/base",
          "model_module_version": "1.2.0",
          "model_name": "LayoutModel",
          "state": {
            "_model_module": "@jupyter-widgets/base",
            "_model_module_version": "1.2.0",
            "_model_name": "LayoutModel",
            "_view_count": null,
            "_view_module": "@jupyter-widgets/base",
            "_view_module_version": "1.2.0",
            "_view_name": "LayoutView",
            "align_content": null,
            "align_items": null,
            "align_self": null,
            "border": null,
            "bottom": null,
            "display": null,
            "flex": null,
            "flex_flow": null,
            "grid_area": null,
            "grid_auto_columns": null,
            "grid_auto_flow": null,
            "grid_auto_rows": null,
            "grid_column": null,
            "grid_gap": null,
            "grid_row": null,
            "grid_template_areas": null,
            "grid_template_columns": null,
            "grid_template_rows": null,
            "height": null,
            "justify_content": null,
            "justify_items": null,
            "left": null,
            "margin": null,
            "max_height": null,
            "max_width": null,
            "min_height": null,
            "min_width": null,
            "object_fit": null,
            "object_position": null,
            "order": null,
            "overflow": null,
            "overflow_x": null,
            "overflow_y": null,
            "padding": null,
            "right": null,
            "top": null,
            "visibility": null,
            "width": null
          }
        },
        "28a10e10467a40279293ea40937a94ae": {
          "model_module": "@jupyter-widgets/base",
          "model_module_version": "1.2.0",
          "model_name": "LayoutModel",
          "state": {
            "_model_module": "@jupyter-widgets/base",
            "_model_module_version": "1.2.0",
            "_model_name": "LayoutModel",
            "_view_count": null,
            "_view_module": "@jupyter-widgets/base",
            "_view_module_version": "1.2.0",
            "_view_name": "LayoutView",
            "align_content": null,
            "align_items": null,
            "align_self": null,
            "border": null,
            "bottom": null,
            "display": null,
            "flex": null,
            "flex_flow": null,
            "grid_area": null,
            "grid_auto_columns": null,
            "grid_auto_flow": null,
            "grid_auto_rows": null,
            "grid_column": null,
            "grid_gap": null,
            "grid_row": null,
            "grid_template_areas": null,
            "grid_template_columns": null,
            "grid_template_rows": null,
            "height": null,
            "justify_content": null,
            "justify_items": null,
            "left": null,
            "margin": null,
            "max_height": null,
            "max_width": null,
            "min_height": null,
            "min_width": null,
            "object_fit": null,
            "object_position": null,
            "order": null,
            "overflow": null,
            "overflow_x": null,
            "overflow_y": null,
            "padding": null,
            "right": null,
            "top": null,
            "visibility": null,
            "width": null
          }
        },
        "2930b509bc9447158c9281fab6957049": {
          "model_module": "@jupyter-widgets/base",
          "model_module_version": "1.2.0",
          "model_name": "LayoutModel",
          "state": {
            "_model_module": "@jupyter-widgets/base",
            "_model_module_version": "1.2.0",
            "_model_name": "LayoutModel",
            "_view_count": null,
            "_view_module": "@jupyter-widgets/base",
            "_view_module_version": "1.2.0",
            "_view_name": "LayoutView",
            "align_content": null,
            "align_items": null,
            "align_self": null,
            "border": null,
            "bottom": null,
            "display": null,
            "flex": null,
            "flex_flow": null,
            "grid_area": null,
            "grid_auto_columns": null,
            "grid_auto_flow": null,
            "grid_auto_rows": null,
            "grid_column": null,
            "grid_gap": null,
            "grid_row": null,
            "grid_template_areas": null,
            "grid_template_columns": null,
            "grid_template_rows": null,
            "height": null,
            "justify_content": null,
            "justify_items": null,
            "left": null,
            "margin": null,
            "max_height": null,
            "max_width": null,
            "min_height": null,
            "min_width": null,
            "object_fit": null,
            "object_position": null,
            "order": null,
            "overflow": null,
            "overflow_x": null,
            "overflow_y": null,
            "padding": null,
            "right": null,
            "top": null,
            "visibility": null,
            "width": null
          }
        },
        "2f644adff2db4ad2a832850ddd09ae5f": {
          "model_module": "@jupyter-widgets/controls",
          "model_module_version": "1.5.0",
          "model_name": "HTMLModel",
          "state": {
            "_dom_classes": [],
            "_model_module": "@jupyter-widgets/controls",
            "_model_module_version": "1.5.0",
            "_model_name": "HTMLModel",
            "_view_count": null,
            "_view_module": "@jupyter-widgets/controls",
            "_view_module_version": "1.5.0",
            "_view_name": "HTMLView",
            "description": "",
            "description_tooltip": null,
            "layout": "IPY_MODEL_af75491ad7fd42fda0c888530fae2c69",
            "placeholder": "​",
            "style": "IPY_MODEL_09b2c52fb00c4ebc97343291ed79f544",
            "value": "100%"
          }
        },
        "31796c19585a431e8dfc54afbbaefb22": {
          "model_module": "@jupyter-widgets/controls",
          "model_module_version": "1.5.0",
          "model_name": "HTMLModel",
          "state": {
            "_dom_classes": [],
            "_model_module": "@jupyter-widgets/controls",
            "_model_module_version": "1.5.0",
            "_model_name": "HTMLModel",
            "_view_count": null,
            "_view_module": "@jupyter-widgets/controls",
            "_view_module_version": "1.5.0",
            "_view_name": "HTMLView",
            "description": "",
            "description_tooltip": null,
            "layout": "IPY_MODEL_4192dc1248b54cb387b39940517541b5",
            "placeholder": "​",
            "style": "IPY_MODEL_53ff81dceb6a45edbe3bd4e833baadd4",
            "value": " 14.8k/14.8k [00:00&lt;00:00, 373kB/s]"
          }
        },
        "32bb6f33f8954ec3a9b580abb70539a5": {
          "model_module": "@jupyter-widgets/controls",
          "model_module_version": "1.5.0",
          "model_name": "HBoxModel",
          "state": {
            "_dom_classes": [],
            "_model_module": "@jupyter-widgets/controls",
            "_model_module_version": "1.5.0",
            "_model_name": "HBoxModel",
            "_view_count": null,
            "_view_module": "@jupyter-widgets/controls",
            "_view_module_version": "1.5.0",
            "_view_name": "HBoxView",
            "box_style": "",
            "children": [
              "IPY_MODEL_a802d2f0386b4bcc9330888429b5069a",
              "IPY_MODEL_57f75ced8f4c4b8f84f1937e60a52c82",
              "IPY_MODEL_caf159d1c0984c9c8d62af99cb29525f"
            ],
            "layout": "IPY_MODEL_6084d7c2b0f14b77a73cbd8ddf2b3c93"
          }
        },
        "3e1511a662fc4fb6b1983044be68b25c": {
          "model_module": "@jupyter-widgets/base",
          "model_module_version": "1.2.0",
          "model_name": "LayoutModel",
          "state": {
            "_model_module": "@jupyter-widgets/base",
            "_model_module_version": "1.2.0",
            "_model_name": "LayoutModel",
            "_view_count": null,
            "_view_module": "@jupyter-widgets/base",
            "_view_module_version": "1.2.0",
            "_view_name": "LayoutView",
            "align_content": null,
            "align_items": null,
            "align_self": null,
            "border": null,
            "bottom": null,
            "display": null,
            "flex": null,
            "flex_flow": null,
            "grid_area": null,
            "grid_auto_columns": null,
            "grid_auto_flow": null,
            "grid_auto_rows": null,
            "grid_column": null,
            "grid_gap": null,
            "grid_row": null,
            "grid_template_areas": null,
            "grid_template_columns": null,
            "grid_template_rows": null,
            "height": null,
            "justify_content": null,
            "justify_items": null,
            "left": null,
            "margin": null,
            "max_height": null,
            "max_width": null,
            "min_height": null,
            "min_width": null,
            "object_fit": null,
            "object_position": null,
            "order": null,
            "overflow": null,
            "overflow_x": null,
            "overflow_y": null,
            "padding": null,
            "right": null,
            "top": null,
            "visibility": null,
            "width": "20px"
          }
        },
        "4192dc1248b54cb387b39940517541b5": {
          "model_module": "@jupyter-widgets/base",
          "model_module_version": "1.2.0",
          "model_name": "LayoutModel",
          "state": {
            "_model_module": "@jupyter-widgets/base",
            "_model_module_version": "1.2.0",
            "_model_name": "LayoutModel",
            "_view_count": null,
            "_view_module": "@jupyter-widgets/base",
            "_view_module_version": "1.2.0",
            "_view_name": "LayoutView",
            "align_content": null,
            "align_items": null,
            "align_self": null,
            "border": null,
            "bottom": null,
            "display": null,
            "flex": null,
            "flex_flow": null,
            "grid_area": null,
            "grid_auto_columns": null,
            "grid_auto_flow": null,
            "grid_auto_rows": null,
            "grid_column": null,
            "grid_gap": null,
            "grid_row": null,
            "grid_template_areas": null,
            "grid_template_columns": null,
            "grid_template_rows": null,
            "height": null,
            "justify_content": null,
            "justify_items": null,
            "left": null,
            "margin": null,
            "max_height": null,
            "max_width": null,
            "min_height": null,
            "min_width": null,
            "object_fit": null,
            "object_position": null,
            "order": null,
            "overflow": null,
            "overflow_x": null,
            "overflow_y": null,
            "padding": null,
            "right": null,
            "top": null,
            "visibility": null,
            "width": null
          }
        },
        "47d68e246fdf41c08cb037b0fd36515f": {
          "model_module": "@jupyter-widgets/controls",
          "model_module_version": "1.5.0",
          "model_name": "HBoxModel",
          "state": {
            "_dom_classes": [],
            "_model_module": "@jupyter-widgets/controls",
            "_model_module_version": "1.5.0",
            "_model_name": "HBoxModel",
            "_view_count": null,
            "_view_module": "@jupyter-widgets/controls",
            "_view_module_version": "1.5.0",
            "_view_name": "HBoxView",
            "box_style": "",
            "children": [
              "IPY_MODEL_6d034b2ae32f4c4892a283f763fe6ae5",
              "IPY_MODEL_ec09f526909a41e7a641fe3c8a8f94b9",
              "IPY_MODEL_f35f804779c24a2dadff454163587fee"
            ],
            "layout": "IPY_MODEL_28a10e10467a40279293ea40937a94ae"
          }
        },
        "4aa403a593374427887147492f576510": {
          "model_module": "@jupyter-widgets/controls",
          "model_module_version": "1.5.0",
          "model_name": "HTMLModel",
          "state": {
            "_dom_classes": [],
            "_model_module": "@jupyter-widgets/controls",
            "_model_module_version": "1.5.0",
            "_model_name": "HTMLModel",
            "_view_count": null,
            "_view_module": "@jupyter-widgets/controls",
            "_view_module_version": "1.5.0",
            "_view_name": "HTMLView",
            "description": "",
            "description_tooltip": null,
            "layout": "IPY_MODEL_288e03e6468043e9bfdc57e5d6b03cc5",
            "placeholder": "​",
            "style": "IPY_MODEL_1f1e4e8335254260b8af3399fde46416",
            "value": ""
          }
        },
        "4b11a05f69634ff6833b72dfc7f7846e": {
          "model_module": "@jupyter-widgets/controls",
          "model_module_version": "1.5.0",
          "model_name": "DescriptionStyleModel",
          "state": {
            "_model_module": "@jupyter-widgets/controls",
            "_model_module_version": "1.5.0",
            "_model_name": "DescriptionStyleModel",
            "_view_count": null,
            "_view_module": "@jupyter-widgets/base",
            "_view_module_version": "1.2.0",
            "_view_name": "StyleView",
            "description_width": ""
          }
        },
        "4e69b1fbd3a2415fb4ba3f07dabb5992": {
          "model_module": "@jupyter-widgets/base",
          "model_module_version": "1.2.0",
          "model_name": "LayoutModel",
          "state": {
            "_model_module": "@jupyter-widgets/base",
            "_model_module_version": "1.2.0",
            "_model_name": "LayoutModel",
            "_view_count": null,
            "_view_module": "@jupyter-widgets/base",
            "_view_module_version": "1.2.0",
            "_view_name": "LayoutView",
            "align_content": null,
            "align_items": null,
            "align_self": null,
            "border": null,
            "bottom": null,
            "display": null,
            "flex": null,
            "flex_flow": null,
            "grid_area": null,
            "grid_auto_columns": null,
            "grid_auto_flow": null,
            "grid_auto_rows": null,
            "grid_column": null,
            "grid_gap": null,
            "grid_row": null,
            "grid_template_areas": null,
            "grid_template_columns": null,
            "grid_template_rows": null,
            "height": null,
            "justify_content": null,
            "justify_items": null,
            "left": null,
            "margin": null,
            "max_height": null,
            "max_width": null,
            "min_height": null,
            "min_width": null,
            "object_fit": null,
            "object_position": null,
            "order": null,
            "overflow": null,
            "overflow_x": null,
            "overflow_y": null,
            "padding": null,
            "right": null,
            "top": null,
            "visibility": null,
            "width": null
          }
        },
        "4fcf2be01b8443adb2c18b51ca25d9bf": {
          "model_module": "@jupyter-widgets/controls",
          "model_module_version": "1.5.0",
          "model_name": "DescriptionStyleModel",
          "state": {
            "_model_module": "@jupyter-widgets/controls",
            "_model_module_version": "1.5.0",
            "_model_name": "DescriptionStyleModel",
            "_view_count": null,
            "_view_module": "@jupyter-widgets/base",
            "_view_module_version": "1.2.0",
            "_view_name": "StyleView",
            "description_width": ""
          }
        },
        "53ff81dceb6a45edbe3bd4e833baadd4": {
          "model_module": "@jupyter-widgets/controls",
          "model_module_version": "1.5.0",
          "model_name": "DescriptionStyleModel",
          "state": {
            "_model_module": "@jupyter-widgets/controls",
            "_model_module_version": "1.5.0",
            "_model_name": "DescriptionStyleModel",
            "_view_count": null,
            "_view_module": "@jupyter-widgets/base",
            "_view_module_version": "1.2.0",
            "_view_name": "StyleView",
            "description_width": ""
          }
        },
        "57f75ced8f4c4b8f84f1937e60a52c82": {
          "model_module": "@jupyter-widgets/controls",
          "model_module_version": "1.5.0",
          "model_name": "FloatProgressModel",
          "state": {
            "_dom_classes": [],
            "_model_module": "@jupyter-widgets/controls",
            "_model_module_version": "1.5.0",
            "_model_name": "FloatProgressModel",
            "_view_count": null,
            "_view_module": "@jupyter-widgets/controls",
            "_view_module_version": "1.5.0",
            "_view_name": "ProgressView",
            "bar_style": "success",
            "description": "",
            "description_tooltip": null,
            "layout": "IPY_MODEL_a34f14b4e64c47788461425b42c336b6",
            "max": 303334,
            "min": 0,
            "orientation": "horizontal",
            "style": "IPY_MODEL_d64ca48356e24c75b73689c141cafd6c",
            "value": 303334
          }
        },
        "5bc97191a2234f3ba374f11460b78a5a": {
          "model_module": "@jupyter-widgets/controls",
          "model_module_version": "1.5.0",
          "model_name": "ProgressStyleModel",
          "state": {
            "_model_module": "@jupyter-widgets/controls",
            "_model_module_version": "1.5.0",
            "_model_name": "ProgressStyleModel",
            "_view_count": null,
            "_view_module": "@jupyter-widgets/base",
            "_view_module_version": "1.2.0",
            "_view_name": "StyleView",
            "bar_color": null,
            "description_width": ""
          }
        },
        "5d14d4e9fe924e35afe6853c2d633fe7": {
          "model_module": "@jupyter-widgets/controls",
          "model_module_version": "1.5.0",
          "model_name": "HTMLModel",
          "state": {
            "_dom_classes": [],
            "_model_module": "@jupyter-widgets/controls",
            "_model_module_version": "1.5.0",
            "_model_name": "HTMLModel",
            "_view_count": null,
            "_view_module": "@jupyter-widgets/controls",
            "_view_module_version": "1.5.0",
            "_view_name": "HTMLView",
            "description": "",
            "description_tooltip": null,
            "layout": "IPY_MODEL_768ddbe755aa4112b01f9940b7a3ccdc",
            "placeholder": "​",
            "style": "IPY_MODEL_08cffb9ba11c4d2cb97580f45c51fc20",
            "value": " 200001/? [01:12&lt;00:00, 3677.88it/s]"
          }
        },
        "6084d7c2b0f14b77a73cbd8ddf2b3c93": {
          "model_module": "@jupyter-widgets/base",
          "model_module_version": "1.2.0",
          "model_name": "LayoutModel",
          "state": {
            "_model_module": "@jupyter-widgets/base",
            "_model_module_version": "1.2.0",
            "_model_name": "LayoutModel",
            "_view_count": null,
            "_view_module": "@jupyter-widgets/base",
            "_view_module_version": "1.2.0",
            "_view_name": "LayoutView",
            "align_content": null,
            "align_items": null,
            "align_self": null,
            "border": null,
            "bottom": null,
            "display": null,
            "flex": null,
            "flex_flow": null,
            "grid_area": null,
            "grid_auto_columns": null,
            "grid_auto_flow": null,
            "grid_auto_rows": null,
            "grid_column": null,
            "grid_gap": null,
            "grid_row": null,
            "grid_template_areas": null,
            "grid_template_columns": null,
            "grid_template_rows": null,
            "height": null,
            "justify_content": null,
            "justify_items": null,
            "left": null,
            "margin": null,
            "max_height": null,
            "max_width": null,
            "min_height": null,
            "min_width": null,
            "object_fit": null,
            "object_position": null,
            "order": null,
            "overflow": null,
            "overflow_x": null,
            "overflow_y": null,
            "padding": null,
            "right": null,
            "top": null,
            "visibility": null,
            "width": null
          }
        },
        "6d034b2ae32f4c4892a283f763fe6ae5": {
          "model_module": "@jupyter-widgets/controls",
          "model_module_version": "1.5.0",
          "model_name": "HTMLModel",
          "state": {
            "_dom_classes": [],
            "_model_module": "@jupyter-widgets/controls",
            "_model_module_version": "1.5.0",
            "_model_name": "HTMLModel",
            "_view_count": null,
            "_view_module": "@jupyter-widgets/controls",
            "_view_module_version": "1.5.0",
            "_view_name": "HTMLView",
            "description": "",
            "description_tooltip": null,
            "layout": "IPY_MODEL_c9299754a37348aaa6d9541c562e448c",
            "placeholder": "​",
            "style": "IPY_MODEL_4fcf2be01b8443adb2c18b51ca25d9bf",
            "value": ""
          }
        },
        "701faf5d329b47249bc723270faf8ba9": {
          "model_module": "@jupyter-widgets/controls",
          "model_module_version": "1.5.0",
          "model_name": "HTMLModel",
          "state": {
            "_dom_classes": [],
            "_model_module": "@jupyter-widgets/controls",
            "_model_module_version": "1.5.0",
            "_model_name": "HTMLModel",
            "_view_count": null,
            "_view_module": "@jupyter-widgets/controls",
            "_view_module_version": "1.5.0",
            "_view_name": "HTMLView",
            "description": "",
            "description_tooltip": null,
            "layout": "IPY_MODEL_4e69b1fbd3a2415fb4ba3f07dabb5992",
            "placeholder": "​",
            "style": "IPY_MODEL_ab06925e568a413c8a2a5569229984b5",
            "value": "oscar.py: 100%"
          }
        },
        "74ec11b3d06241a788010ea7ba76891b": {
          "model_module": "@jupyter-widgets/base",
          "model_module_version": "1.2.0",
          "model_name": "LayoutModel",
          "state": {
            "_model_module": "@jupyter-widgets/base",
            "_model_module_version": "1.2.0",
            "_model_name": "LayoutModel",
            "_view_count": null,
            "_view_module": "@jupyter-widgets/base",
            "_view_module_version": "1.2.0",
            "_view_name": "LayoutView",
            "align_content": null,
            "align_items": null,
            "align_self": null,
            "border": null,
            "bottom": null,
            "display": null,
            "flex": null,
            "flex_flow": null,
            "grid_area": null,
            "grid_auto_columns": null,
            "grid_auto_flow": null,
            "grid_auto_rows": null,
            "grid_column": null,
            "grid_gap": null,
            "grid_row": null,
            "grid_template_areas": null,
            "grid_template_columns": null,
            "grid_template_rows": null,
            "height": null,
            "justify_content": null,
            "justify_items": null,
            "left": null,
            "margin": null,
            "max_height": null,
            "max_width": null,
            "min_height": null,
            "min_width": null,
            "object_fit": null,
            "object_position": null,
            "order": null,
            "overflow": null,
            "overflow_x": null,
            "overflow_y": null,
            "padding": null,
            "right": null,
            "top": null,
            "visibility": null,
            "width": null
          }
        },
        "768ddbe755aa4112b01f9940b7a3ccdc": {
          "model_module": "@jupyter-widgets/base",
          "model_module_version": "1.2.0",
          "model_name": "LayoutModel",
          "state": {
            "_model_module": "@jupyter-widgets/base",
            "_model_module_version": "1.2.0",
            "_model_name": "LayoutModel",
            "_view_count": null,
            "_view_module": "@jupyter-widgets/base",
            "_view_module_version": "1.2.0",
            "_view_name": "LayoutView",
            "align_content": null,
            "align_items": null,
            "align_self": null,
            "border": null,
            "bottom": null,
            "display": null,
            "flex": null,
            "flex_flow": null,
            "grid_area": null,
            "grid_auto_columns": null,
            "grid_auto_flow": null,
            "grid_auto_rows": null,
            "grid_column": null,
            "grid_gap": null,
            "grid_row": null,
            "grid_template_areas": null,
            "grid_template_columns": null,
            "grid_template_rows": null,
            "height": null,
            "justify_content": null,
            "justify_items": null,
            "left": null,
            "margin": null,
            "max_height": null,
            "max_width": null,
            "min_height": null,
            "min_width": null,
            "object_fit": null,
            "object_position": null,
            "order": null,
            "overflow": null,
            "overflow_x": null,
            "overflow_y": null,
            "padding": null,
            "right": null,
            "top": null,
            "visibility": null,
            "width": null
          }
        },
        "7d2fd1ede5804ea2b276f0072e905463": {
          "model_module": "@jupyter-widgets/controls",
          "model_module_version": "1.5.0",
          "model_name": "ProgressStyleModel",
          "state": {
            "_model_module": "@jupyter-widgets/controls",
            "_model_module_version": "1.5.0",
            "_model_name": "ProgressStyleModel",
            "_view_count": null,
            "_view_module": "@jupyter-widgets/base",
            "_view_module_version": "1.2.0",
            "_view_name": "StyleView",
            "bar_color": null,
            "description_width": ""
          }
        },
        "860b547424084404a1e321d2b5c110eb": {
          "model_module": "@jupyter-widgets/controls",
          "model_module_version": "1.5.0",
          "model_name": "FloatProgressModel",
          "state": {
            "_dom_classes": [],
            "_model_module": "@jupyter-widgets/controls",
            "_model_module_version": "1.5.0",
            "_model_name": "FloatProgressModel",
            "_view_count": null,
            "_view_module": "@jupyter-widgets/controls",
            "_view_module_version": "1.5.0",
            "_view_name": "ProgressView",
            "bar_style": "success",
            "description": "",
            "description_tooltip": null,
            "layout": "IPY_MODEL_f9940dafddd44d13bcde6e0fc2942065",
            "max": 200001,
            "min": 0,
            "orientation": "horizontal",
            "style": "IPY_MODEL_5bc97191a2234f3ba374f11460b78a5a",
            "value": 200001
          }
        },
        "8cb94a710ee3426aa831cfa5c12e64df": {
          "model_module": "@jupyter-widgets/base",
          "model_module_version": "1.2.0",
          "model_name": "LayoutModel",
          "state": {
            "_model_module": "@jupyter-widgets/base",
            "_model_module_version": "1.2.0",
            "_model_name": "LayoutModel",
            "_view_count": null,
            "_view_module": "@jupyter-widgets/base",
            "_view_module_version": "1.2.0",
            "_view_name": "LayoutView",
            "align_content": null,
            "align_items": null,
            "align_self": null,
            "border": null,
            "bottom": null,
            "display": null,
            "flex": null,
            "flex_flow": null,
            "grid_area": null,
            "grid_auto_columns": null,
            "grid_auto_flow": null,
            "grid_auto_rows": null,
            "grid_column": null,
            "grid_gap": null,
            "grid_row": null,
            "grid_template_areas": null,
            "grid_template_columns": null,
            "grid_template_rows": null,
            "height": null,
            "justify_content": null,
            "justify_items": null,
            "left": null,
            "margin": null,
            "max_height": null,
            "max_width": null,
            "min_height": null,
            "min_width": null,
            "object_fit": null,
            "object_position": null,
            "order": null,
            "overflow": null,
            "overflow_x": null,
            "overflow_y": null,
            "padding": null,
            "right": null,
            "top": null,
            "visibility": null,
            "width": null
          }
        },
        "9aa87e6a34934feb911ebfeb230e59c3": {
          "model_module": "@jupyter-widgets/controls",
          "model_module_version": "1.5.0",
          "model_name": "ProgressStyleModel",
          "state": {
            "_model_module": "@jupyter-widgets/controls",
            "_model_module_version": "1.5.0",
            "_model_name": "ProgressStyleModel",
            "_view_count": null,
            "_view_module": "@jupyter-widgets/base",
            "_view_module_version": "1.2.0",
            "_view_name": "StyleView",
            "bar_color": null,
            "description_width": ""
          }
        },
        "9e0a62bb6d29405ab58a9795bdad43bf": {
          "model_module": "@jupyter-widgets/controls",
          "model_module_version": "1.5.0",
          "model_name": "HTMLModel",
          "state": {
            "_dom_classes": [],
            "_model_module": "@jupyter-widgets/controls",
            "_model_module_version": "1.5.0",
            "_model_name": "HTMLModel",
            "_view_count": null,
            "_view_module": "@jupyter-widgets/controls",
            "_view_module_version": "1.5.0",
            "_view_name": "HTMLView",
            "description": "",
            "description_tooltip": null,
            "layout": "IPY_MODEL_8cb94a710ee3426aa831cfa5c12e64df",
            "placeholder": "​",
            "style": "IPY_MODEL_4b11a05f69634ff6833b72dfc7f7846e",
            "value": " 200001/200001 [00:13&lt;00:00, 27183.50it/s]"
          }
        },
        "a34f14b4e64c47788461425b42c336b6": {
          "model_module": "@jupyter-widgets/base",
          "model_module_version": "1.2.0",
          "model_name": "LayoutModel",
          "state": {
            "_model_module": "@jupyter-widgets/base",
            "_model_module_version": "1.2.0",
            "_model_name": "LayoutModel",
            "_view_count": null,
            "_view_module": "@jupyter-widgets/base",
            "_view_module_version": "1.2.0",
            "_view_name": "LayoutView",
            "align_content": null,
            "align_items": null,
            "align_self": null,
            "border": null,
            "bottom": null,
            "display": null,
            "flex": null,
            "flex_flow": null,
            "grid_area": null,
            "grid_auto_columns": null,
            "grid_auto_flow": null,
            "grid_auto_rows": null,
            "grid_column": null,
            "grid_gap": null,
            "grid_row": null,
            "grid_template_areas": null,
            "grid_template_columns": null,
            "grid_template_rows": null,
            "height": null,
            "justify_content": null,
            "justify_items": null,
            "left": null,
            "margin": null,
            "max_height": null,
            "max_width": null,
            "min_height": null,
            "min_width": null,
            "object_fit": null,
            "object_position": null,
            "order": null,
            "overflow": null,
            "overflow_x": null,
            "overflow_y": null,
            "padding": null,
            "right": null,
            "top": null,
            "visibility": null,
            "width": null
          }
        },
        "a50181149438424d8ef1bec578c70196": {
          "model_module": "@jupyter-widgets/controls",
          "model_module_version": "1.5.0",
          "model_name": "DescriptionStyleModel",
          "state": {
            "_model_module": "@jupyter-widgets/controls",
            "_model_module_version": "1.5.0",
            "_model_name": "DescriptionStyleModel",
            "_view_count": null,
            "_view_module": "@jupyter-widgets/base",
            "_view_module_version": "1.2.0",
            "_view_name": "StyleView",
            "description_width": ""
          }
        },
        "a802d2f0386b4bcc9330888429b5069a": {
          "model_module": "@jupyter-widgets/controls",
          "model_module_version": "1.5.0",
          "model_name": "HTMLModel",
          "state": {
            "_dom_classes": [],
            "_model_module": "@jupyter-widgets/controls",
            "_model_module_version": "1.5.0",
            "_model_name": "HTMLModel",
            "_view_count": null,
            "_view_module": "@jupyter-widgets/controls",
            "_view_module_version": "1.5.0",
            "_view_name": "HTMLView",
            "description": "",
            "description_tooltip": null,
            "layout": "IPY_MODEL_a998c3521a1344328df8bca28d418b24",
            "placeholder": "​",
            "style": "IPY_MODEL_a50181149438424d8ef1bec578c70196",
            "value": "README.md: 100%"
          }
        },
        "a845ba2439224ef09f2a62e469e4eb0a": {
          "model_module": "@jupyter-widgets/controls",
          "model_module_version": "1.5.0",
          "model_name": "HBoxModel",
          "state": {
            "_dom_classes": [],
            "_model_module": "@jupyter-widgets/controls",
            "_model_module_version": "1.5.0",
            "_model_name": "HBoxModel",
            "_view_count": null,
            "_view_module": "@jupyter-widgets/controls",
            "_view_module_version": "1.5.0",
            "_view_name": "HBoxView",
            "box_style": "",
            "children": [
              "IPY_MODEL_4aa403a593374427887147492f576510",
              "IPY_MODEL_03cfcaa0b8114347bbd1145559b86540",
              "IPY_MODEL_5d14d4e9fe924e35afe6853c2d633fe7"
            ],
            "layout": "IPY_MODEL_d2fc35ce1903499d9438c051ed93f5de"
          }
        },
        "a998c3521a1344328df8bca28d418b24": {
          "model_module": "@jupyter-widgets/base",
          "model_module_version": "1.2.0",
          "model_name": "LayoutModel",
          "state": {
            "_model_module": "@jupyter-widgets/base",
            "_model_module_version": "1.2.0",
            "_model_name": "LayoutModel",
            "_view_count": null,
            "_view_module": "@jupyter-widgets/base",
            "_view_module_version": "1.2.0",
            "_view_name": "LayoutView",
            "align_content": null,
            "align_items": null,
            "align_self": null,
            "border": null,
            "bottom": null,
            "display": null,
            "flex": null,
            "flex_flow": null,
            "grid_area": null,
            "grid_auto_columns": null,
            "grid_auto_flow": null,
            "grid_auto_rows": null,
            "grid_column": null,
            "grid_gap": null,
            "grid_row": null,
            "grid_template_areas": null,
            "grid_template_columns": null,
            "grid_template_rows": null,
            "height": null,
            "justify_content": null,
            "justify_items": null,
            "left": null,
            "margin": null,
            "max_height": null,
            "max_width": null,
            "min_height": null,
            "min_width": null,
            "object_fit": null,
            "object_position": null,
            "order": null,
            "overflow": null,
            "overflow_x": null,
            "overflow_y": null,
            "padding": null,
            "right": null,
            "top": null,
            "visibility": null,
            "width": null
          }
        },
        "ab06925e568a413c8a2a5569229984b5": {
          "model_module": "@jupyter-widgets/controls",
          "model_module_version": "1.5.0",
          "model_name": "DescriptionStyleModel",
          "state": {
            "_model_module": "@jupyter-widgets/controls",
            "_model_module_version": "1.5.0",
            "_model_name": "DescriptionStyleModel",
            "_view_count": null,
            "_view_module": "@jupyter-widgets/base",
            "_view_module_version": "1.2.0",
            "_view_name": "StyleView",
            "description_width": ""
          }
        },
        "af75491ad7fd42fda0c888530fae2c69": {
          "model_module": "@jupyter-widgets/base",
          "model_module_version": "1.2.0",
          "model_name": "LayoutModel",
          "state": {
            "_model_module": "@jupyter-widgets/base",
            "_model_module_version": "1.2.0",
            "_model_name": "LayoutModel",
            "_view_count": null,
            "_view_module": "@jupyter-widgets/base",
            "_view_module_version": "1.2.0",
            "_view_name": "LayoutView",
            "align_content": null,
            "align_items": null,
            "align_self": null,
            "border": null,
            "bottom": null,
            "display": null,
            "flex": null,
            "flex_flow": null,
            "grid_area": null,
            "grid_auto_columns": null,
            "grid_auto_flow": null,
            "grid_auto_rows": null,
            "grid_column": null,
            "grid_gap": null,
            "grid_row": null,
            "grid_template_areas": null,
            "grid_template_columns": null,
            "grid_template_rows": null,
            "height": null,
            "justify_content": null,
            "justify_items": null,
            "left": null,
            "margin": null,
            "max_height": null,
            "max_width": null,
            "min_height": null,
            "min_width": null,
            "object_fit": null,
            "object_position": null,
            "order": null,
            "overflow": null,
            "overflow_x": null,
            "overflow_y": null,
            "padding": null,
            "right": null,
            "top": null,
            "visibility": null,
            "width": null
          }
        },
        "b72a1b9855d647ac99fab27e17de7308": {
          "model_module": "@jupyter-widgets/controls",
          "model_module_version": "1.5.0",
          "model_name": "DescriptionStyleModel",
          "state": {
            "_model_module": "@jupyter-widgets/controls",
            "_model_module_version": "1.5.0",
            "_model_name": "DescriptionStyleModel",
            "_view_count": null,
            "_view_module": "@jupyter-widgets/base",
            "_view_module_version": "1.2.0",
            "_view_name": "StyleView",
            "description_width": ""
          }
        },
        "c78169ef271c41e7b40889687543de49": {
          "model_module": "@jupyter-widgets/controls",
          "model_module_version": "1.5.0",
          "model_name": "HBoxModel",
          "state": {
            "_dom_classes": [],
            "_model_module": "@jupyter-widgets/controls",
            "_model_module_version": "1.5.0",
            "_model_name": "HBoxModel",
            "_view_count": null,
            "_view_module": "@jupyter-widgets/controls",
            "_view_module_version": "1.5.0",
            "_view_name": "HBoxView",
            "box_style": "",
            "children": [
              "IPY_MODEL_2f644adff2db4ad2a832850ddd09ae5f",
              "IPY_MODEL_860b547424084404a1e321d2b5c110eb",
              "IPY_MODEL_9e0a62bb6d29405ab58a9795bdad43bf"
            ],
            "layout": "IPY_MODEL_f7e1001e8aa941f798bedbd055c357b6"
          }
        },
        "c9299754a37348aaa6d9541c562e448c": {
          "model_module": "@jupyter-widgets/base",
          "model_module_version": "1.2.0",
          "model_name": "LayoutModel",
          "state": {
            "_model_module": "@jupyter-widgets/base",
            "_model_module_version": "1.2.0",
            "_model_name": "LayoutModel",
            "_view_count": null,
            "_view_module": "@jupyter-widgets/base",
            "_view_module_version": "1.2.0",
            "_view_name": "LayoutView",
            "align_content": null,
            "align_items": null,
            "align_self": null,
            "border": null,
            "bottom": null,
            "display": null,
            "flex": null,
            "flex_flow": null,
            "grid_area": null,
            "grid_auto_columns": null,
            "grid_auto_flow": null,
            "grid_auto_rows": null,
            "grid_column": null,
            "grid_gap": null,
            "grid_row": null,
            "grid_template_areas": null,
            "grid_template_columns": null,
            "grid_template_rows": null,
            "height": null,
            "justify_content": null,
            "justify_items": null,
            "left": null,
            "margin": null,
            "max_height": null,
            "max_width": null,
            "min_height": null,
            "min_width": null,
            "object_fit": null,
            "object_position": null,
            "order": null,
            "overflow": null,
            "overflow_x": null,
            "overflow_y": null,
            "padding": null,
            "right": null,
            "top": null,
            "visibility": null,
            "width": null
          }
        },
        "caf159d1c0984c9c8d62af99cb29525f": {
          "model_module": "@jupyter-widgets/controls",
          "model_module_version": "1.5.0",
          "model_name": "HTMLModel",
          "state": {
            "_dom_classes": [],
            "_model_module": "@jupyter-widgets/controls",
            "_model_module_version": "1.5.0",
            "_model_name": "HTMLModel",
            "_view_count": null,
            "_view_module": "@jupyter-widgets/controls",
            "_view_module_version": "1.5.0",
            "_view_name": "HTMLView",
            "description": "",
            "description_tooltip": null,
            "layout": "IPY_MODEL_eca9106a6ec14e4eade806788106ab4e",
            "placeholder": "​",
            "style": "IPY_MODEL_b72a1b9855d647ac99fab27e17de7308",
            "value": " 303k/303k [00:00&lt;00:00, 4.87MB/s]"
          }
        },
        "d2fc35ce1903499d9438c051ed93f5de": {
          "model_module": "@jupyter-widgets/base",
          "model_module_version": "1.2.0",
          "model_name": "LayoutModel",
          "state": {
            "_model_module": "@jupyter-widgets/base",
            "_model_module_version": "1.2.0",
            "_model_name": "LayoutModel",
            "_view_count": null,
            "_view_module": "@jupyter-widgets/base",
            "_view_module_version": "1.2.0",
            "_view_name": "LayoutView",
            "align_content": null,
            "align_items": null,
            "align_self": null,
            "border": null,
            "bottom": null,
            "display": null,
            "flex": null,
            "flex_flow": null,
            "grid_area": null,
            "grid_auto_columns": null,
            "grid_auto_flow": null,
            "grid_auto_rows": null,
            "grid_column": null,
            "grid_gap": null,
            "grid_row": null,
            "grid_template_areas": null,
            "grid_template_columns": null,
            "grid_template_rows": null,
            "height": null,
            "justify_content": null,
            "justify_items": null,
            "left": null,
            "margin": null,
            "max_height": null,
            "max_width": null,
            "min_height": null,
            "min_width": null,
            "object_fit": null,
            "object_position": null,
            "order": null,
            "overflow": null,
            "overflow_x": null,
            "overflow_y": null,
            "padding": null,
            "right": null,
            "top": null,
            "visibility": null,
            "width": null
          }
        },
        "d5ac2a2127e7440d99b325f805b287f5": {
          "model_module": "@jupyter-widgets/controls",
          "model_module_version": "1.5.0",
          "model_name": "DescriptionStyleModel",
          "state": {
            "_model_module": "@jupyter-widgets/controls",
            "_model_module_version": "1.5.0",
            "_model_name": "DescriptionStyleModel",
            "_view_count": null,
            "_view_module": "@jupyter-widgets/base",
            "_view_module_version": "1.2.0",
            "_view_name": "StyleView",
            "description_width": ""
          }
        },
        "d64ca48356e24c75b73689c141cafd6c": {
          "model_module": "@jupyter-widgets/controls",
          "model_module_version": "1.5.0",
          "model_name": "ProgressStyleModel",
          "state": {
            "_model_module": "@jupyter-widgets/controls",
            "_model_module_version": "1.5.0",
            "_model_name": "ProgressStyleModel",
            "_view_count": null,
            "_view_module": "@jupyter-widgets/base",
            "_view_module_version": "1.2.0",
            "_view_name": "StyleView",
            "bar_color": null,
            "description_width": ""
          }
        },
        "dc03ce8f4bec4e8ea1a3ddd30a59681a": {
          "model_module": "@jupyter-widgets/controls",
          "model_module_version": "1.5.0",
          "model_name": "FloatProgressModel",
          "state": {
            "_dom_classes": [],
            "_model_module": "@jupyter-widgets/controls",
            "_model_module_version": "1.5.0",
            "_model_name": "FloatProgressModel",
            "_view_count": null,
            "_view_module": "@jupyter-widgets/controls",
            "_view_module_version": "1.5.0",
            "_view_name": "ProgressView",
            "bar_style": "success",
            "description": "",
            "description_tooltip": null,
            "layout": "IPY_MODEL_2930b509bc9447158c9281fab6957049",
            "max": 14761,
            "min": 0,
            "orientation": "horizontal",
            "style": "IPY_MODEL_12e37fa233db46baa29fe6fd2b3a2db0",
            "value": 14761
          }
        },
        "ec09f526909a41e7a641fe3c8a8f94b9": {
          "model_module": "@jupyter-widgets/controls",
          "model_module_version": "1.5.0",
          "model_name": "FloatProgressModel",
          "state": {
            "_dom_classes": [],
            "_model_module": "@jupyter-widgets/controls",
            "_model_module_version": "1.5.0",
            "_model_name": "FloatProgressModel",
            "_view_count": null,
            "_view_module": "@jupyter-widgets/controls",
            "_view_module_version": "1.5.0",
            "_view_name": "ProgressView",
            "bar_style": "success",
            "description": "",
            "description_tooltip": null,
            "layout": "IPY_MODEL_0c42690608f646bd9c7202e893793864",
            "max": 1,
            "min": 0,
            "orientation": "horizontal",
            "style": "IPY_MODEL_7d2fd1ede5804ea2b276f0072e905463",
            "value": 0
          }
        },
        "ec887241608b4b529f8ef18682911b3b": {
          "model_module": "@jupyter-widgets/controls",
          "model_module_version": "1.5.0",
          "model_name": "HBoxModel",
          "state": {
            "_dom_classes": [],
            "_model_module": "@jupyter-widgets/controls",
            "_model_module_version": "1.5.0",
            "_model_name": "HBoxModel",
            "_view_count": null,
            "_view_module": "@jupyter-widgets/controls",
            "_view_module_version": "1.5.0",
            "_view_name": "HBoxView",
            "box_style": "",
            "children": [
              "IPY_MODEL_701faf5d329b47249bc723270faf8ba9",
              "IPY_MODEL_dc03ce8f4bec4e8ea1a3ddd30a59681a",
              "IPY_MODEL_31796c19585a431e8dfc54afbbaefb22"
            ],
            "layout": "IPY_MODEL_74ec11b3d06241a788010ea7ba76891b"
          }
        },
        "eca9106a6ec14e4eade806788106ab4e": {
          "model_module": "@jupyter-widgets/base",
          "model_module_version": "1.2.0",
          "model_name": "LayoutModel",
          "state": {
            "_model_module": "@jupyter-widgets/base",
            "_model_module_version": "1.2.0",
            "_model_name": "LayoutModel",
            "_view_count": null,
            "_view_module": "@jupyter-widgets/base",
            "_view_module_version": "1.2.0",
            "_view_name": "LayoutView",
            "align_content": null,
            "align_items": null,
            "align_self": null,
            "border": null,
            "bottom": null,
            "display": null,
            "flex": null,
            "flex_flow": null,
            "grid_area": null,
            "grid_auto_columns": null,
            "grid_auto_flow": null,
            "grid_auto_rows": null,
            "grid_column": null,
            "grid_gap": null,
            "grid_row": null,
            "grid_template_areas": null,
            "grid_template_columns": null,
            "grid_template_rows": null,
            "height": null,
            "justify_content": null,
            "justify_items": null,
            "left": null,
            "margin": null,
            "max_height": null,
            "max_width": null,
            "min_height": null,
            "min_width": null,
            "object_fit": null,
            "object_position": null,
            "order": null,
            "overflow": null,
            "overflow_x": null,
            "overflow_y": null,
            "padding": null,
            "right": null,
            "top": null,
            "visibility": null,
            "width": null
          }
        },
        "f29bb825e6d44ae4bb62a80d1361f4b1": {
          "model_module": "@jupyter-widgets/base",
          "model_module_version": "1.2.0",
          "model_name": "LayoutModel",
          "state": {
            "_model_module": "@jupyter-widgets/base",
            "_model_module_version": "1.2.0",
            "_model_name": "LayoutModel",
            "_view_count": null,
            "_view_module": "@jupyter-widgets/base",
            "_view_module_version": "1.2.0",
            "_view_name": "LayoutView",
            "align_content": null,
            "align_items": null,
            "align_self": null,
            "border": null,
            "bottom": null,
            "display": null,
            "flex": null,
            "flex_flow": null,
            "grid_area": null,
            "grid_auto_columns": null,
            "grid_auto_flow": null,
            "grid_auto_rows": null,
            "grid_column": null,
            "grid_gap": null,
            "grid_row": null,
            "grid_template_areas": null,
            "grid_template_columns": null,
            "grid_template_rows": null,
            "height": null,
            "justify_content": null,
            "justify_items": null,
            "left": null,
            "margin": null,
            "max_height": null,
            "max_width": null,
            "min_height": null,
            "min_width": null,
            "object_fit": null,
            "object_position": null,
            "order": null,
            "overflow": null,
            "overflow_x": null,
            "overflow_y": null,
            "padding": null,
            "right": null,
            "top": null,
            "visibility": null,
            "width": null
          }
        },
        "f35f804779c24a2dadff454163587fee": {
          "model_module": "@jupyter-widgets/controls",
          "model_module_version": "1.5.0",
          "model_name": "HTMLModel",
          "state": {
            "_dom_classes": [],
            "_model_module": "@jupyter-widgets/controls",
            "_model_module_version": "1.5.0",
            "_model_name": "HTMLModel",
            "_view_count": null,
            "_view_module": "@jupyter-widgets/controls",
            "_view_module_version": "1.5.0",
            "_view_name": "HTMLView",
            "description": "",
            "description_tooltip": null,
            "layout": "IPY_MODEL_f29bb825e6d44ae4bb62a80d1361f4b1",
            "placeholder": "​",
            "style": "IPY_MODEL_d5ac2a2127e7440d99b325f805b287f5",
            "value": " 0/0 [00:00&lt;?, ?it/s]"
          }
        },
        "f7e1001e8aa941f798bedbd055c357b6": {
          "model_module": "@jupyter-widgets/base",
          "model_module_version": "1.2.0",
          "model_name": "LayoutModel",
          "state": {
            "_model_module": "@jupyter-widgets/base",
            "_model_module_version": "1.2.0",
            "_model_name": "LayoutModel",
            "_view_count": null,
            "_view_module": "@jupyter-widgets/base",
            "_view_module_version": "1.2.0",
            "_view_name": "LayoutView",
            "align_content": null,
            "align_items": null,
            "align_self": null,
            "border": null,
            "bottom": null,
            "display": null,
            "flex": null,
            "flex_flow": null,
            "grid_area": null,
            "grid_auto_columns": null,
            "grid_auto_flow": null,
            "grid_auto_rows": null,
            "grid_column": null,
            "grid_gap": null,
            "grid_row": null,
            "grid_template_areas": null,
            "grid_template_columns": null,
            "grid_template_rows": null,
            "height": null,
            "justify_content": null,
            "justify_items": null,
            "left": null,
            "margin": null,
            "max_height": null,
            "max_width": null,
            "min_height": null,
            "min_width": null,
            "object_fit": null,
            "object_position": null,
            "order": null,
            "overflow": null,
            "overflow_x": null,
            "overflow_y": null,
            "padding": null,
            "right": null,
            "top": null,
            "visibility": null,
            "width": null
          }
        },
        "f9940dafddd44d13bcde6e0fc2942065": {
          "model_module": "@jupyter-widgets/base",
          "model_module_version": "1.2.0",
          "model_name": "LayoutModel",
          "state": {
            "_model_module": "@jupyter-widgets/base",
            "_model_module_version": "1.2.0",
            "_model_name": "LayoutModel",
            "_view_count": null,
            "_view_module": "@jupyter-widgets/base",
            "_view_module_version": "1.2.0",
            "_view_name": "LayoutView",
            "align_content": null,
            "align_items": null,
            "align_self": null,
            "border": null,
            "bottom": null,
            "display": null,
            "flex": null,
            "flex_flow": null,
            "grid_area": null,
            "grid_auto_columns": null,
            "grid_auto_flow": null,
            "grid_auto_rows": null,
            "grid_column": null,
            "grid_gap": null,
            "grid_row": null,
            "grid_template_areas": null,
            "grid_template_columns": null,
            "grid_template_rows": null,
            "height": null,
            "justify_content": null,
            "justify_items": null,
            "left": null,
            "margin": null,
            "max_height": null,
            "max_width": null,
            "min_height": null,
            "min_width": null,
            "object_fit": null,
            "object_position": null,
            "order": null,
            "overflow": null,
            "overflow_x": null,
            "overflow_y": null,
            "padding": null,
            "right": null,
            "top": null,
            "visibility": null,
            "width": null
          }
        }
      }
    }
  },
  "nbformat": 4,
  "nbformat_minor": 0
}
